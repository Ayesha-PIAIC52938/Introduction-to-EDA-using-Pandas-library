{
 "cells": [
  {
   "cell_type": "markdown",
   "id": "96de6c1b",
   "metadata": {},
   "source": [
    "# <div class = \"alert alert-info\"> Data Cleaning\n",
    "\n",
    "    Data cleaning means fixing bad data in your data set.Bad data could be:\n",
    "- Empty cells\n",
    "- Data in wrong format\n",
    "- Wrong data\n",
    "- Duplicates\n",
    "    \n",
    "We will learn how to deal with all of them."
   ]
  },
  {
   "cell_type": "code",
   "execution_count": 1,
   "id": "c1d033d9",
   "metadata": {},
   "outputs": [],
   "source": [
    "import pandas as pd"
   ]
  },
  {
   "cell_type": "code",
   "execution_count": 2,
   "id": "8496b140",
   "metadata": {},
   "outputs": [],
   "source": [
    "path = \"./data_raw.csv\"\n",
    "data_frame = pd.read_csv(path)"
   ]
  },
  {
   "cell_type": "markdown",
   "id": "74f281a7",
   "metadata": {},
   "source": [
    "### <div class = \"alert alert-success\"> Our Data Set :\n",
    "    \n",
    "This dataset represents the workout session of a person. it has five attributes/columns and 32 records/rows (0-31)"
   ]
  },
  {
   "cell_type": "code",
   "execution_count": 3,
   "id": "4d8f708f",
   "metadata": {},
   "outputs": [
    {
     "name": "stdout",
     "output_type": "stream",
     "text": [
      "    Duration        Date  Pulse  Maxpulse  Calories\n",
      "0         60   12/1/2020    110       130     409.1\n",
      "1         60   12/2/2020    117       145     479.0\n",
      "2         60   12/3/2020    103       135     340.0\n",
      "3         45   12/4/2020    109       175     282.4\n",
      "4         45   12/5/2020    117       148     406.0\n",
      "5         60   12/6/2020    102       127     300.0\n",
      "6         60   12/7/2020    110       136     374.0\n",
      "7        450   12/8/2020    104       134     253.3\n",
      "8         30   12/9/2020    109       133     195.1\n",
      "9         60  12/10/2020     98       124     269.0\n",
      "10        60  12/11/2020    103       147     329.3\n",
      "11        60  12/12/2020    100       120     250.7\n",
      "12        60  12/12/2020    100       120     250.7\n",
      "13        60  12/13/2020    106       128     345.3\n",
      "14        60  12/14/2020    104       132     379.3\n",
      "15        60  12/15/2020     98       123     275.0\n",
      "16        60  12/16/2020     98       120     215.2\n",
      "17        60  12/17/2020    100       120     300.0\n",
      "18        45  12/18/2020     90       112       NaN\n",
      "19        60  12/19/2020    103       123     323.0\n",
      "20        45  12/20/2020     97       125     243.0\n",
      "21        60  12/21/2020    108       131     364.2\n",
      "22        45         NaN    100       119     282.0\n",
      "23        60  12/23/2020    130       101     300.0\n",
      "24        45  12/24/2020    105       132     246.0\n",
      "25        60  12/25/2020    102       126     334.5\n",
      "26        60    20201226    100       120     250.0\n",
      "27        60  12/27/2020     92       118     241.0\n",
      "28        60  12/28/2020    103       132       NaN\n",
      "29        60  12/29/2020    100       132     280.0\n",
      "30        60  12/30/2020    102       129     380.3\n",
      "31        60  12/31/2020     92       115     243.0\n"
     ]
    }
   ],
   "source": [
    "print(data_frame.to_string())"
   ]
  },
  {
   "cell_type": "markdown",
   "id": "f97dc4f4",
   "metadata": {},
   "source": [
    "<div class = \"alert alert-success\">\n",
    "    \n",
    "<div class = \"alert alert-info\">\n",
    "    \n",
    "- The data set contains some empty cells (\"Date\" in row 22, and \"Calories\" in row 18 and 28).\n",
    "- The data set contains wrong format (\"Date\" in row 26).\n",
    "- The data set contains wrong data (\"Duration\" in row 7).\n",
    "- The data set contains duplicates (row 11 and 12)."
   ]
  },
  {
   "cell_type": "markdown",
   "id": "11a1e6ec",
   "metadata": {},
   "source": [
    "## <div class = \"alert alert-success\"> (1) Cleaning Missing Values/Empty Cells\n",
    "    \n",
    "Empty cells can potentially give you a wrong result when you analyze data. To remove empty cells we can\n",
    "- Remove rows with empty cells (usually done when dataset is large so that impact of deleting row is not significant)\n",
    "- Replacing rows with empty cells\n",
    "\n"
   ]
  },
  {
   "cell_type": "markdown",
   "id": "7293a52a",
   "metadata": {},
   "source": [
    "###  - <ins>Removing rows with missing data</ins>:\n",
    "\n",
    "To remove row with missing values we use <span style=\"color:red\">\n",
    "dropna()\n",
    "    </span> method. \n",
    "- dropna() method returns a new DataFrame, and will not change the original.\n",
    "- dropna( inplace = True) method remove missing value from the orignal dataset and return nothing"
   ]
  },
  {
   "cell_type": "code",
   "execution_count": 4,
   "id": "c67788a7",
   "metadata": {},
   "outputs": [
    {
     "name": "stdout",
     "output_type": "stream",
     "text": [
      "    Duration        Date  Pulse  Maxpulse  Calories\n",
      "0         60   12/1/2020    110       130     409.1\n",
      "1         60   12/2/2020    117       145     479.0\n",
      "2         60   12/3/2020    103       135     340.0\n",
      "3         45   12/4/2020    109       175     282.4\n",
      "4         45   12/5/2020    117       148     406.0\n",
      "5         60   12/6/2020    102       127     300.0\n",
      "6         60   12/7/2020    110       136     374.0\n",
      "7        450   12/8/2020    104       134     253.3\n",
      "8         30   12/9/2020    109       133     195.1\n",
      "9         60  12/10/2020     98       124     269.0\n",
      "10        60  12/11/2020    103       147     329.3\n",
      "11        60  12/12/2020    100       120     250.7\n",
      "12        60  12/12/2020    100       120     250.7\n",
      "13        60  12/13/2020    106       128     345.3\n",
      "14        60  12/14/2020    104       132     379.3\n",
      "15        60  12/15/2020     98       123     275.0\n",
      "16        60  12/16/2020     98       120     215.2\n",
      "17        60  12/17/2020    100       120     300.0\n",
      "19        60  12/19/2020    103       123     323.0\n",
      "20        45  12/20/2020     97       125     243.0\n",
      "21        60  12/21/2020    108       131     364.2\n",
      "23        60  12/23/2020    130       101     300.0\n",
      "24        45  12/24/2020    105       132     246.0\n",
      "25        60  12/25/2020    102       126     334.5\n",
      "26        60    20201226    100       120     250.0\n",
      "27        60  12/27/2020     92       118     241.0\n",
      "29        60  12/29/2020    100       132     280.0\n",
      "30        60  12/30/2020    102       129     380.3\n",
      "31        60  12/31/2020     92       115     243.0\n"
     ]
    }
   ],
   "source": [
    "data_frame_new = data_frame.dropna()  # missing values removed from copy of data_frame and stored in data_frame_new\n",
    "\n",
    "print(data_frame_new.to_string())"
   ]
  },
  {
   "cell_type": "markdown",
   "id": "c3fe2ede",
   "metadata": {},
   "source": [
    "- row 18,22 and 28 that had missing values are now removed from the dataset"
   ]
  },
  {
   "cell_type": "code",
   "execution_count": 5,
   "id": "15045efe",
   "metadata": {},
   "outputs": [
    {
     "name": "stdout",
     "output_type": "stream",
     "text": [
      "    Duration        Date  Pulse  Maxpulse  Calories\n",
      "0         60   12/1/2020    110       130     409.1\n",
      "1         60   12/2/2020    117       145     479.0\n",
      "2         60   12/3/2020    103       135     340.0\n",
      "3         45   12/4/2020    109       175     282.4\n",
      "4         45   12/5/2020    117       148     406.0\n",
      "5         60   12/6/2020    102       127     300.0\n",
      "6         60   12/7/2020    110       136     374.0\n",
      "7        450   12/8/2020    104       134     253.3\n",
      "8         30   12/9/2020    109       133     195.1\n",
      "9         60  12/10/2020     98       124     269.0\n",
      "10        60  12/11/2020    103       147     329.3\n",
      "11        60  12/12/2020    100       120     250.7\n",
      "12        60  12/12/2020    100       120     250.7\n",
      "13        60  12/13/2020    106       128     345.3\n",
      "14        60  12/14/2020    104       132     379.3\n",
      "15        60  12/15/2020     98       123     275.0\n",
      "16        60  12/16/2020     98       120     215.2\n",
      "17        60  12/17/2020    100       120     300.0\n",
      "19        60  12/19/2020    103       123     323.0\n",
      "20        45  12/20/2020     97       125     243.0\n",
      "21        60  12/21/2020    108       131     364.2\n",
      "23        60  12/23/2020    130       101     300.0\n",
      "24        45  12/24/2020    105       132     246.0\n",
      "25        60  12/25/2020    102       126     334.5\n",
      "26        60    20201226    100       120     250.0\n",
      "27        60  12/27/2020     92       118     241.0\n",
      "29        60  12/29/2020    100       132     280.0\n",
      "30        60  12/30/2020    102       129     380.3\n",
      "31        60  12/31/2020     92       115     243.0\n"
     ]
    }
   ],
   "source": [
    "data_frame.dropna(inplace = True) # dropna(inplace= True) deteted row 18,22 & 28 from orignal data_frame and return nothing \n",
    "print(data_frame.to_string())"
   ]
  },
  {
   "cell_type": "markdown",
   "id": "f52e812c",
   "metadata": {},
   "source": [
    "### - <ins>Replacing rows with missing data</ins>: \n",
    "\n",
    "Two ways to replace missing values:\n",
    "- Insert some value instead of missing value.The <span style=\"color:red\">\n",
    "fillna( )\n",
    "    </span> method allows us to replace missing value/empty cell/NaN/Null with some value:\n",
    "- Replace missing value with the mode, median or mean of the column from which its missing"
   ]
  },
  {
   "cell_type": "markdown",
   "id": "dfa9d399",
   "metadata": {},
   "source": [
    " #####  <span style=\"color:green\"> Replacing missing value by some value: </span> "
   ]
  },
  {
   "cell_type": "code",
   "execution_count": 6,
   "id": "e0a369bb",
   "metadata": {},
   "outputs": [
    {
     "name": "stdout",
     "output_type": "stream",
     "text": [
      "    Duration        Date  Pulse  Maxpulse  Calories\n",
      "0         60   12/1/2020    110       130     409.1\n",
      "1         60   12/2/2020    117       145     479.0\n",
      "2         60   12/3/2020    103       135     340.0\n",
      "3         45   12/4/2020    109       175     282.4\n",
      "4         45   12/5/2020    117       148     406.0\n",
      "5         60   12/6/2020    102       127     300.0\n",
      "6         60   12/7/2020    110       136     374.0\n",
      "7        450   12/8/2020    104       134     253.3\n",
      "8         30   12/9/2020    109       133     195.1\n",
      "9         60  12/10/2020     98       124     269.0\n",
      "10        60  12/11/2020    103       147     329.3\n",
      "11        60  12/12/2020    100       120     250.7\n",
      "12        60  12/12/2020    100       120     250.7\n",
      "13        60  12/13/2020    106       128     345.3\n",
      "14        60  12/14/2020    104       132     379.3\n",
      "15        60  12/15/2020     98       123     275.0\n",
      "16        60  12/16/2020     98       120     215.2\n",
      "17        60  12/17/2020    100       120     300.0\n",
      "18        45  12/18/2020     90       112    9999.0\n",
      "19        60  12/19/2020    103       123     323.0\n",
      "20        45  12/20/2020     97       125     243.0\n",
      "21        60  12/21/2020    108       131     364.2\n",
      "22        45        9999    100       119     282.0\n",
      "23        60  12/23/2020    130       101     300.0\n",
      "24        45  12/24/2020    105       132     246.0\n",
      "25        60  12/25/2020    102       126     334.5\n",
      "26        60    20201226    100       120     250.0\n",
      "27        60  12/27/2020     92       118     241.0\n",
      "28        60  12/28/2020    103       132    9999.0\n",
      "29        60  12/29/2020    100       132     280.0\n",
      "30        60  12/30/2020    102       129     380.3\n",
      "31        60  12/31/2020     92       115     243.0\n"
     ]
    }
   ],
   "source": [
    "data_frame = pd.read_csv(path)   # loading again because we removed missing values rows above\n",
    "\n",
    "data_frame.fillna(9999, inplace = True) # replace all mising value cells with 9999\n",
    "\n",
    "print(data_frame.to_string())  "
   ]
  },
  {
   "cell_type": "markdown",
   "id": "2b6321aa",
   "metadata": {},
   "source": [
    "- row 18, 22 & 28 missing values replaced by 9999"
   ]
  },
  {
   "cell_type": "code",
   "execution_count": 7,
   "id": "071c785c",
   "metadata": {},
   "outputs": [
    {
     "name": "stdout",
     "output_type": "stream",
     "text": [
      "    Duration        Date  Pulse  Maxpulse  Calories\n",
      "0         60   12/1/2020    110       130     409.1\n",
      "1         60   12/2/2020    117       145     479.0\n",
      "2         60   12/3/2020    103       135     340.0\n",
      "3         45   12/4/2020    109       175     282.4\n",
      "4         45   12/5/2020    117       148     406.0\n",
      "5         60   12/6/2020    102       127     300.0\n",
      "6         60   12/7/2020    110       136     374.0\n",
      "7        450   12/8/2020    104       134     253.3\n",
      "8         30   12/9/2020    109       133     195.1\n",
      "9         60  12/10/2020     98       124     269.0\n",
      "10        60  12/11/2020    103       147     329.3\n",
      "11        60  12/12/2020    100       120     250.7\n",
      "12        60  12/12/2020    100       120     250.7\n",
      "13        60  12/13/2020    106       128     345.3\n",
      "14        60  12/14/2020    104       132     379.3\n",
      "15        60  12/15/2020     98       123     275.0\n",
      "16        60  12/16/2020     98       120     215.2\n",
      "17        60  12/17/2020    100       120     300.0\n",
      "18        45  12/18/2020     90       112    9999.0\n",
      "19        60  12/19/2020    103       123     323.0\n",
      "20        45  12/20/2020     97       125     243.0\n",
      "21        60  12/21/2020    108       131     364.2\n",
      "22        45       0/0/0    100       119     282.0\n",
      "23        60  12/23/2020    130       101     300.0\n",
      "24        45  12/24/2020    105       132     246.0\n",
      "25        60  12/25/2020    102       126     334.5\n",
      "26        60    20201226    100       120     250.0\n",
      "27        60  12/27/2020     92       118     241.0\n",
      "28        60  12/28/2020    103       132    9999.0\n",
      "29        60  12/29/2020    100       132     280.0\n",
      "30        60  12/30/2020    102       129     380.3\n",
      "31        60  12/31/2020     92       115     243.0\n"
     ]
    }
   ],
   "source": [
    "data_frame = pd.read_csv(path)    \n",
    "\n",
    "data_frame[\"Calories\"].fillna(9999, inplace = True) # replace Calories attribute mising value cells with 9999 only\n",
    "data_frame[\"Date\"].fillna('0/0/0', inplace = True) # replace Calories attribute mising value cells with 0/0/0\n",
    "\n",
    "print(data_frame.to_string()) "
   ]
  },
  {
   "cell_type": "markdown",
   "id": "ff5daa49",
   "metadata": {},
   "source": [
    " #####  <span style=\"color:green\"> Replacing missing value by mean, median or mod: </span> \n",
    " \n",
    " Pandas uses the <span style=\"color:red\">\n",
    " mean(), median() and mode()\n",
    "    </span> methods to calculate the respective values for a specified column:"
   ]
  },
  {
   "cell_type": "markdown",
   "id": "4ca9b9b7",
   "metadata": {},
   "source": [
    " ######  <ins><span style=\"color:blue\"> Replacing by mean<ins>:</span> "
   ]
  },
  {
   "cell_type": "code",
   "execution_count": 8,
   "id": "d2f2316c",
   "metadata": {},
   "outputs": [
    {
     "name": "stdout",
     "output_type": "stream",
     "text": [
      "Calories column mean is: 304.68\n",
      "    Duration        Date  Pulse  Maxpulse  Calories\n",
      "0         60   12/1/2020    110       130    409.10\n",
      "1         60   12/2/2020    117       145    479.00\n",
      "2         60   12/3/2020    103       135    340.00\n",
      "3         45   12/4/2020    109       175    282.40\n",
      "4         45   12/5/2020    117       148    406.00\n",
      "5         60   12/6/2020    102       127    300.00\n",
      "6         60   12/7/2020    110       136    374.00\n",
      "7        450   12/8/2020    104       134    253.30\n",
      "8         30   12/9/2020    109       133    195.10\n",
      "9         60  12/10/2020     98       124    269.00\n",
      "10        60  12/11/2020    103       147    329.30\n",
      "11        60  12/12/2020    100       120    250.70\n",
      "12        60  12/12/2020    100       120    250.70\n",
      "13        60  12/13/2020    106       128    345.30\n",
      "14        60  12/14/2020    104       132    379.30\n",
      "15        60  12/15/2020     98       123    275.00\n",
      "16        60  12/16/2020     98       120    215.20\n",
      "17        60  12/17/2020    100       120    300.00\n",
      "18        45  12/18/2020     90       112    304.68\n",
      "19        60  12/19/2020    103       123    323.00\n",
      "20        45  12/20/2020     97       125    243.00\n",
      "21        60  12/21/2020    108       131    364.20\n",
      "22        45         NaN    100       119    282.00\n",
      "23        60  12/23/2020    130       101    300.00\n",
      "24        45  12/24/2020    105       132    246.00\n",
      "25        60  12/25/2020    102       126    334.50\n",
      "26        60    20201226    100       120    250.00\n",
      "27        60  12/27/2020     92       118    241.00\n",
      "28        60  12/28/2020    103       132    304.68\n",
      "29        60  12/29/2020    100       132    280.00\n",
      "30        60  12/30/2020    102       129    380.30\n",
      "31        60  12/31/2020     92       115    243.00\n"
     ]
    }
   ],
   "source": [
    "data_frame = pd.read_csv('data_raw.csv')   # loading again because we changed the missing values above\n",
    "\n",
    "data_frame_mean = data_frame[\"Calories\"].mean()\n",
    "\n",
    "print(f\"Calories column mean is: {data_frame_mean}\")\n",
    "\n",
    "data_frame[\"Calories\"].fillna(data_frame_mean, inplace = True)\n",
    "\n",
    "print(data_frame.to_string())"
   ]
  },
  {
   "cell_type": "markdown",
   "id": "c0b051b1",
   "metadata": {},
   "source": [
    "- row 18 and 28 of Calories column replaced by mean = 304.68"
   ]
  },
  {
   "cell_type": "markdown",
   "id": "5752c3f4",
   "metadata": {},
   "source": [
    " ######  <ins><span style=\"color:blue\"> Replacing by median<ins>:</span> "
   ]
  },
  {
   "cell_type": "code",
   "execution_count": 9,
   "id": "05fb0fbf",
   "metadata": {},
   "outputs": [
    {
     "name": "stdout",
     "output_type": "stream",
     "text": [
      "Calories column median is: 291.2\n",
      "    Duration        Date  Pulse  Maxpulse  Calories\n",
      "0         60   12/1/2020    110       130     409.1\n",
      "1         60   12/2/2020    117       145     479.0\n",
      "2         60   12/3/2020    103       135     340.0\n",
      "3         45   12/4/2020    109       175     282.4\n",
      "4         45   12/5/2020    117       148     406.0\n",
      "5         60   12/6/2020    102       127     300.0\n",
      "6         60   12/7/2020    110       136     374.0\n",
      "7        450   12/8/2020    104       134     253.3\n",
      "8         30   12/9/2020    109       133     195.1\n",
      "9         60  12/10/2020     98       124     269.0\n",
      "10        60  12/11/2020    103       147     329.3\n",
      "11        60  12/12/2020    100       120     250.7\n",
      "12        60  12/12/2020    100       120     250.7\n",
      "13        60  12/13/2020    106       128     345.3\n",
      "14        60  12/14/2020    104       132     379.3\n",
      "15        60  12/15/2020     98       123     275.0\n",
      "16        60  12/16/2020     98       120     215.2\n",
      "17        60  12/17/2020    100       120     300.0\n",
      "18        45  12/18/2020     90       112     291.2\n",
      "19        60  12/19/2020    103       123     323.0\n",
      "20        45  12/20/2020     97       125     243.0\n",
      "21        60  12/21/2020    108       131     364.2\n",
      "22        45         NaN    100       119     282.0\n",
      "23        60  12/23/2020    130       101     300.0\n",
      "24        45  12/24/2020    105       132     246.0\n",
      "25        60  12/25/2020    102       126     334.5\n",
      "26        60    20201226    100       120     250.0\n",
      "27        60  12/27/2020     92       118     241.0\n",
      "28        60  12/28/2020    103       132     291.2\n",
      "29        60  12/29/2020    100       132     280.0\n",
      "30        60  12/30/2020    102       129     380.3\n",
      "31        60  12/31/2020     92       115     243.0\n"
     ]
    }
   ],
   "source": [
    "data_frame = pd.read_csv('data_raw.csv')   # loading again because we changed the missing values above\n",
    "\n",
    "data_frame_median = data_frame[\"Calories\"].median()\n",
    "\n",
    "print(f\"Calories column median is: {data_frame_median}\")\n",
    "\n",
    "data_frame[\"Calories\"].fillna(data_frame_median, inplace = True)\n",
    "\n",
    "print(data_frame.to_string())"
   ]
  },
  {
   "cell_type": "markdown",
   "id": "f4566c03",
   "metadata": {},
   "source": [
    "- row 18 and 28 of Calories column replaced by median = 291.2"
   ]
  },
  {
   "cell_type": "markdown",
   "id": "5ef3daa7",
   "metadata": {},
   "source": [
    " ######  <ins><span style=\"color:blue\"> Replacing by mode<ins>: <span> "
   ]
  },
  {
   "cell_type": "code",
   "execution_count": 10,
   "id": "0ef018e1",
   "metadata": {},
   "outputs": [
    {
     "name": "stdout",
     "output_type": "stream",
     "text": [
      "Calories column mode is: 300.0\n",
      "    Duration        Date  Pulse  Maxpulse  Calories\n",
      "0         60   12/1/2020    110       130     409.1\n",
      "1         60   12/2/2020    117       145     479.0\n",
      "2         60   12/3/2020    103       135     340.0\n",
      "3         45   12/4/2020    109       175     282.4\n",
      "4         45   12/5/2020    117       148     406.0\n",
      "5         60   12/6/2020    102       127     300.0\n",
      "6         60   12/7/2020    110       136     374.0\n",
      "7        450   12/8/2020    104       134     253.3\n",
      "8         30   12/9/2020    109       133     195.1\n",
      "9         60  12/10/2020     98       124     269.0\n",
      "10        60  12/11/2020    103       147     329.3\n",
      "11        60  12/12/2020    100       120     250.7\n",
      "12        60  12/12/2020    100       120     250.7\n",
      "13        60  12/13/2020    106       128     345.3\n",
      "14        60  12/14/2020    104       132     379.3\n",
      "15        60  12/15/2020     98       123     275.0\n",
      "16        60  12/16/2020     98       120     215.2\n",
      "17        60  12/17/2020    100       120     300.0\n",
      "18        45  12/18/2020     90       112     300.0\n",
      "19        60  12/19/2020    103       123     323.0\n",
      "20        45  12/20/2020     97       125     243.0\n",
      "21        60  12/21/2020    108       131     364.2\n",
      "22        45         NaN    100       119     282.0\n",
      "23        60  12/23/2020    130       101     300.0\n",
      "24        45  12/24/2020    105       132     246.0\n",
      "25        60  12/25/2020    102       126     334.5\n",
      "26        60    20201226    100       120     250.0\n",
      "27        60  12/27/2020     92       118     241.0\n",
      "28        60  12/28/2020    103       132     300.0\n",
      "29        60  12/29/2020    100       132     280.0\n",
      "30        60  12/30/2020    102       129     380.3\n",
      "31        60  12/31/2020     92       115     243.0\n"
     ]
    }
   ],
   "source": [
    "data_frame = pd.read_csv('data_raw.csv')   # loading again because we changed the missing values above\n",
    "\n",
    "data_frame_mode = data_frame[\"Calories\"].mode()[0]  # without [0] Calories NaN are not replaced with mode= 300.0\n",
    "\n",
    "print(f\"Calories column mode is: {data_frame_mode}\")\n",
    "\n",
    "data_frame[\"Calories\"].fillna(data_frame_mode, inplace = True)\n",
    "\n",
    "print(data_frame.to_string())"
   ]
  },
  {
   "cell_type": "markdown",
   "id": "4506638e",
   "metadata": {},
   "source": [
    "- row 18 and 28 of Calories column replaced by mode = 300.0"
   ]
  },
  {
   "cell_type": "markdown",
   "id": "010eb7e3",
   "metadata": {},
   "source": [
    "## <div class = \"alert alert-success\"> (2) Cleaning Data of Wrong Format\n",
    "    \n",
    "Cells with data of wrong format can make it hard to analyze data, let alone deduce meaningful insights.\n",
    "Wrong fornated data can be cleaned in two waya:\n",
    "- Remove the rows\n",
    "- Convert all cells in the columns into the same format\n",
    "    \n",
    "In our Data Frame, we have two cells with the wrong format:row 22 and 26 of the 'Date' column. It shouldn't be an empty cell or integer value but rather a string that represents a date.\n",
    "    \n",
    "To convert all cells in the 'Date' column into dates we can use Pandas \n",
    "<span style=\"color:red\">\n",
    "to_datetime()\n",
    "    </span>\n",
    "method:"
   ]
  },
  {
   "cell_type": "code",
   "execution_count": 11,
   "id": "e6f8f02d",
   "metadata": {},
   "outputs": [
    {
     "name": "stdout",
     "output_type": "stream",
     "text": [
      "    Duration       Date  Pulse  Maxpulse  Calories\n",
      "0         60 2020-12-01    110       130     409.1\n",
      "1         60 2020-12-02    117       145     479.0\n",
      "2         60 2020-12-03    103       135     340.0\n",
      "3         45 2020-12-04    109       175     282.4\n",
      "4         45 2020-12-05    117       148     406.0\n",
      "5         60 2020-12-06    102       127     300.0\n",
      "6         60 2020-12-07    110       136     374.0\n",
      "7        450 2020-12-08    104       134     253.3\n",
      "8         30 2020-12-09    109       133     195.1\n",
      "9         60 2020-12-10     98       124     269.0\n",
      "10        60 2020-12-11    103       147     329.3\n",
      "11        60 2020-12-12    100       120     250.7\n",
      "12        60 2020-12-12    100       120     250.7\n",
      "13        60 2020-12-13    106       128     345.3\n",
      "14        60 2020-12-14    104       132     379.3\n",
      "15        60 2020-12-15     98       123     275.0\n",
      "16        60 2020-12-16     98       120     215.2\n",
      "17        60 2020-12-17    100       120     300.0\n",
      "18        45 2020-12-18     90       112     300.0\n",
      "19        60 2020-12-19    103       123     323.0\n",
      "20        45 2020-12-20     97       125     243.0\n",
      "21        60 2020-12-21    108       131     364.2\n",
      "22        45        NaT    100       119     282.0\n",
      "23        60 2020-12-23    130       101     300.0\n",
      "24        45 2020-12-24    105       132     246.0\n",
      "25        60 2020-12-25    102       126     334.5\n",
      "26        60 2020-12-26    100       120     250.0\n",
      "27        60 2020-12-27     92       118     241.0\n",
      "28        60 2020-12-28    103       132     300.0\n",
      "29        60 2020-12-29    100       132     280.0\n",
      "30        60 2020-12-30    102       129     380.3\n",
      "31        60 2020-12-31     92       115     243.0\n"
     ]
    }
   ],
   "source": [
    "data_frame['Date'] = pd.to_datetime(data_frame['Date'])\n",
    "\n",
    "print(data_frame.to_string())"
   ]
  },
  {
   "cell_type": "markdown",
   "id": "8a422e2b",
   "metadata": {},
   "source": [
    "- The date in row 26 is fixed, but the empty date in row 22 got a NaT (Not a Time) value, in other words an empty value. One way to deal with empty values is simply removing the entire row:"
   ]
  },
  {
   "cell_type": "code",
   "execution_count": 12,
   "id": "a25e59c6",
   "metadata": {},
   "outputs": [
    {
     "name": "stdout",
     "output_type": "stream",
     "text": [
      "    Duration       Date  Pulse  Maxpulse  Calories\n",
      "0         60 2020-12-01    110       130     409.1\n",
      "1         60 2020-12-02    117       145     479.0\n",
      "2         60 2020-12-03    103       135     340.0\n",
      "3         45 2020-12-04    109       175     282.4\n",
      "4         45 2020-12-05    117       148     406.0\n",
      "5         60 2020-12-06    102       127     300.0\n",
      "6         60 2020-12-07    110       136     374.0\n",
      "7        450 2020-12-08    104       134     253.3\n",
      "8         30 2020-12-09    109       133     195.1\n",
      "9         60 2020-12-10     98       124     269.0\n",
      "10        60 2020-12-11    103       147     329.3\n",
      "11        60 2020-12-12    100       120     250.7\n",
      "12        60 2020-12-12    100       120     250.7\n",
      "13        60 2020-12-13    106       128     345.3\n",
      "14        60 2020-12-14    104       132     379.3\n",
      "15        60 2020-12-15     98       123     275.0\n",
      "16        60 2020-12-16     98       120     215.2\n",
      "17        60 2020-12-17    100       120     300.0\n",
      "18        45 2020-12-18     90       112     300.0\n",
      "19        60 2020-12-19    103       123     323.0\n",
      "20        45 2020-12-20     97       125     243.0\n",
      "21        60 2020-12-21    108       131     364.2\n",
      "23        60 2020-12-23    130       101     300.0\n",
      "24        45 2020-12-24    105       132     246.0\n",
      "25        60 2020-12-25    102       126     334.5\n",
      "26        60 2020-12-26    100       120     250.0\n",
      "27        60 2020-12-27     92       118     241.0\n",
      "28        60 2020-12-28    103       132     300.0\n",
      "29        60 2020-12-29    100       132     280.0\n",
      "30        60 2020-12-30    102       129     380.3\n",
      "31        60 2020-12-31     92       115     243.0\n"
     ]
    }
   ],
   "source": [
    "data_frame.dropna(subset=['Date'], inplace = True) # removing row 22\n",
    "print(data_frame.to_string())"
   ]
  },
  {
   "cell_type": "markdown",
   "id": "865841f2",
   "metadata": {},
   "source": [
    "## <div class = \"alert alert-success\"> (3) Fixing Wrong Data\n",
    "  \n",
    "Wrong data does not have to be \"empty cells\" or \"wrong format\", it can just be wrong. For example a typo like registering \"5.7Kg\" instead of \"57Kg\" for a fully grown person.\n",
    "Sometimes one can spot wrong data just by looking at the data set other times it can go unchecked.\n",
    "\n",
    "In our data set, you can see that in row 7, the duration is 450, but for all the other rows the duration is between 30 and 60.\n",
    "It doesn't have to be wrong, but taking in consideration that this is the data set of someone's workout sessions, we conclude with the fact that this person did not trully workout in 450 minutes (7.5 hrs!).\n",
    " \n",
    "To fix wrong data we can:\n",
    "- Replace the wrong values by correct one\n",
    "- Remove rows with wrong values"
   ]
  },
  {
   "cell_type": "markdown",
   "id": "4acdc3d8",
   "metadata": {},
   "source": [
    " ######  <ins><span style=\"color:blue\"> Replacing wrong values<ins>: <span> "
   ]
  },
  {
   "cell_type": "code",
   "execution_count": 13,
   "id": "a5192b80",
   "metadata": {},
   "outputs": [
    {
     "name": "stdout",
     "output_type": "stream",
     "text": [
      "    Duration       Date  Pulse  Maxpulse  Calories\n",
      "0         60 2020-12-01    110       130     409.1\n",
      "1         60 2020-12-02    117       145     479.0\n",
      "2         60 2020-12-03    103       135     340.0\n",
      "3         45 2020-12-04    109       175     282.4\n",
      "4         45 2020-12-05    117       148     406.0\n",
      "5         60 2020-12-06    102       127     300.0\n",
      "6         60 2020-12-07    110       136     374.0\n",
      "7         49 2020-12-08    104       134     253.3\n",
      "8         30 2020-12-09    109       133     195.1\n",
      "9         60 2020-12-10     98       124     269.0\n",
      "10        60 2020-12-11    103       147     329.3\n",
      "11        60 2020-12-12    100       120     250.7\n",
      "12        60 2020-12-12    100       120     250.7\n",
      "13        60 2020-12-13    106       128     345.3\n",
      "14        60 2020-12-14    104       132     379.3\n",
      "15        60 2020-12-15     98       123     275.0\n",
      "16        60 2020-12-16     98       120     215.2\n",
      "17        60 2020-12-17    100       120     300.0\n",
      "18        45 2020-12-18     90       112     300.0\n",
      "19        60 2020-12-19    103       123     323.0\n",
      "20        45 2020-12-20     97       125     243.0\n",
      "21        60 2020-12-21    108       131     364.2\n",
      "23        60 2020-12-23    130       101     300.0\n",
      "24        45 2020-12-24    105       132     246.0\n",
      "25        60 2020-12-25    102       126     334.5\n",
      "26        60 2020-12-26    100       120     250.0\n",
      "27        60 2020-12-27     92       118     241.0\n",
      "28        60 2020-12-28    103       132     300.0\n",
      "29        60 2020-12-29    100       132     280.0\n",
      "30        60 2020-12-30    102       129     380.3\n",
      "31        60 2020-12-31     92       115     243.0\n"
     ]
    }
   ],
   "source": [
    "data_frame.loc[7, 'Duration'] = 49     # repllacing cell value in (row,column)= (7,Duration) with 33\n",
    "print(data_frame.to_string())"
   ]
  },
  {
   "cell_type": "markdown",
   "id": "d963e504",
   "metadata": {},
   "source": [
    "- For small data sets above method might be able to replace the wrong data one by one, but not for big data sets.\n",
    "- To replace wrong data for larger data sets we can create some rules, say we set some boundaries for legal values, and replace any values that are outside of that boundaries. Below code explains this concept:"
   ]
  },
  {
   "cell_type": "code",
   "execution_count": 21,
   "id": "00cccfe7",
   "metadata": {},
   "outputs": [
    {
     "name": "stdout",
     "output_type": "stream",
     "text": [
      "    Duration        Date  Pulse  Maxpulse  Calories\n",
      "0         60   12/1/2020    110       130     409.1\n",
      "1         60   12/2/2020    117       145     479.0\n",
      "2         60   12/3/2020    103       135     340.0\n",
      "3         45   12/4/2020    109       175     282.4\n",
      "4         45   12/5/2020    117       148     406.0\n",
      "5         60   12/6/2020    102       127     300.0\n",
      "6         60   12/7/2020    110       136     374.0\n",
      "7         60   12/8/2020    104       134     253.3\n",
      "8         30   12/9/2020    109       133     195.1\n",
      "9         60  12/10/2020     98       124     269.0\n",
      "10        60  12/11/2020    103       147     329.3\n",
      "11        60  12/12/2020    100       120     250.7\n",
      "12        60  12/12/2020    100       120     250.7\n",
      "13        60  12/13/2020    106       128     345.3\n",
      "14        60  12/14/2020    104       132     379.3\n",
      "15        60  12/15/2020     98       123     275.0\n",
      "16        60  12/16/2020     98       120     215.2\n",
      "17        60  12/17/2020    100       120     300.0\n",
      "18        45  12/18/2020     90       112       NaN\n",
      "19        60  12/19/2020    103       123     323.0\n",
      "20        45  12/20/2020     97       125     243.0\n",
      "21        60  12/21/2020    108       131     364.2\n",
      "22        45         NaN    100       119     282.0\n",
      "23        60  12/23/2020    130       101     300.0\n",
      "24        45  12/24/2020    105       132     246.0\n",
      "25        60  12/25/2020    102       126     334.5\n",
      "26        60    20201226    100       120     250.0\n",
      "27        60  12/27/2020     92       118     241.0\n",
      "28        60  12/28/2020    103       132       NaN\n",
      "29        60  12/29/2020    100       132     280.0\n",
      "30        60  12/30/2020    102       129     380.3\n",
      "31        60  12/31/2020     92       115     243.0\n"
     ]
    }
   ],
   "source": [
    "data_frame = pd.read_csv('data_raw.csv')\n",
    "for data_frame_max_range in data_frame.index:\n",
    "  if data_frame.loc[data_frame_max_range, \"Duration\"] > 60:  \n",
    "  \n",
    "    data_frame.loc[data_frame_max_range, \"Duration\"] = 60\n",
    "\n",
    "print(data_frame.to_string())"
   ]
  },
  {
   "cell_type": "markdown",
   "id": "559fe028",
   "metadata": {},
   "source": [
    "- (row 7,Duration) cell replaces 60 by 60\n",
    "- ignore the NaN and wrong format data as we uploaded the data_raw.csv file anew"
   ]
  },
  {
   "cell_type": "markdown",
   "id": "691a9d62",
   "metadata": {},
   "source": [
    " ######  <ins><span style=\"color:blue\"> Removing rows with wrong values<ins>: <span> "
   ]
  },
  {
   "cell_type": "markdown",
   "id": "abda6986",
   "metadata": {},
   "source": [
    " #####  <span style=\"color:green\"> (i) From small datasets: </span> "
   ]
  },
  {
   "cell_type": "code",
   "execution_count": 23,
   "id": "7d776563",
   "metadata": {},
   "outputs": [
    {
     "name": "stdout",
     "output_type": "stream",
     "text": [
      "    Duration        Date  Pulse  Maxpulse  Calories\n",
      "0         60   12/1/2020    110       130     409.1\n",
      "1         60   12/2/2020    117       145     479.0\n",
      "2         60   12/3/2020    103       135     340.0\n",
      "3         45   12/4/2020    109       175     282.4\n",
      "4         45   12/5/2020    117       148     406.0\n",
      "5         60   12/6/2020    102       127     300.0\n",
      "6         60   12/7/2020    110       136     374.0\n",
      "8         30   12/9/2020    109       133     195.1\n",
      "9         60  12/10/2020     98       124     269.0\n",
      "10        60  12/11/2020    103       147     329.3\n",
      "11        60  12/12/2020    100       120     250.7\n",
      "12        60  12/12/2020    100       120     250.7\n",
      "13        60  12/13/2020    106       128     345.3\n",
      "14        60  12/14/2020    104       132     379.3\n",
      "15        60  12/15/2020     98       123     275.0\n",
      "16        60  12/16/2020     98       120     215.2\n",
      "17        60  12/17/2020    100       120     300.0\n",
      "18        45  12/18/2020     90       112       NaN\n",
      "19        60  12/19/2020    103       123     323.0\n",
      "20        45  12/20/2020     97       125     243.0\n",
      "21        60  12/21/2020    108       131     364.2\n",
      "22        45         NaN    100       119     282.0\n",
      "23        60  12/23/2020    130       101     300.0\n",
      "24        45  12/24/2020    105       132     246.0\n",
      "25        60  12/25/2020    102       126     334.5\n",
      "26        60    20201226    100       120     250.0\n",
      "27        60  12/27/2020     92       118     241.0\n",
      "28        60  12/28/2020    103       132       NaN\n",
      "29        60  12/29/2020    100       132     280.0\n",
      "30        60  12/30/2020    102       129     380.3\n",
      "31        60  12/31/2020     92       115     243.0\n"
     ]
    }
   ],
   "source": [
    "data_frame = pd.read_csv('data_raw.csv')\n",
    "\n",
    "data_frame.drop(7, inplace = True)     #every cell in Duration column grater then or equal to 50 will be deleted\n",
    "\n",
    "print(data_frame.to_string())   "
   ]
  },
  {
   "cell_type": "markdown",
   "id": "069cd6ad",
   "metadata": {},
   "source": [
    "#####  <span style=\"color:green\"> (ii) From large datasets: </span> "
   ]
  },
  {
   "cell_type": "code",
   "execution_count": 22,
   "id": "2f14cdca",
   "metadata": {},
   "outputs": [
    {
     "name": "stdout",
     "output_type": "stream",
     "text": [
      "    Duration        Date  Pulse  Maxpulse  Calories\n",
      "0         60   12/1/2020    110       130     409.1\n",
      "1         60   12/2/2020    117       145     479.0\n",
      "2         60   12/3/2020    103       135     340.0\n",
      "3         45   12/4/2020    109       175     282.4\n",
      "4         45   12/5/2020    117       148     406.0\n",
      "5         60   12/6/2020    102       127     300.0\n",
      "6         60   12/7/2020    110       136     374.0\n",
      "8         30   12/9/2020    109       133     195.1\n",
      "9         60  12/10/2020     98       124     269.0\n",
      "10        60  12/11/2020    103       147     329.3\n",
      "11        60  12/12/2020    100       120     250.7\n",
      "12        60  12/12/2020    100       120     250.7\n",
      "13        60  12/13/2020    106       128     345.3\n",
      "14        60  12/14/2020    104       132     379.3\n",
      "15        60  12/15/2020     98       123     275.0\n",
      "16        60  12/16/2020     98       120     215.2\n",
      "17        60  12/17/2020    100       120     300.0\n",
      "18        45  12/18/2020     90       112       NaN\n",
      "19        60  12/19/2020    103       123     323.0\n",
      "20        45  12/20/2020     97       125     243.0\n",
      "21        60  12/21/2020    108       131     364.2\n",
      "22        45         NaN    100       119     282.0\n",
      "23        60  12/23/2020    130       101     300.0\n",
      "24        45  12/24/2020    105       132     246.0\n",
      "25        60  12/25/2020    102       126     334.5\n",
      "26        60    20201226    100       120     250.0\n",
      "27        60  12/27/2020     92       118     241.0\n",
      "28        60  12/28/2020    103       132       NaN\n",
      "29        60  12/29/2020    100       132     280.0\n",
      "30        60  12/30/2020    102       129     380.3\n",
      "31        60  12/31/2020     92       115     243.0\n"
     ]
    }
   ],
   "source": [
    "data_frame = pd.read_csv('data_raw.csv')\n",
    "for data_frame_cell_value in data_frame.index:\n",
    "      if data_frame.loc[data_frame_cell_value, \"Duration\"] > 60:\n",
    "        data_frame.drop(data_frame_cell_value, inplace = True)  \n",
    "        #every cell in Duration column grater then or equal to 50 will be deleted\n",
    "\n",
    "print(data_frame.to_string())   "
   ]
  },
  {
   "cell_type": "markdown",
   "id": "6623da33",
   "metadata": {},
   "source": [
    "## <div class = \"alert alert-success\"> (4) Removing Duplicates\n",
    "    \n",
    "rowes in a dataframe registered more then once are considered as duplicates. In our test data set, note that row 11 and 12 are duplicates.\n",
    "\n",
    "To discover duplicates in large datasets, we can use the <span style=\"color:red\">\n",
    "duplicated()\n",
    "    </span> method.\n",
    "\n",
    "- duplicated() method returns a Boolean values for each row- returns True for every row that is a duplicate, othwerwise False:"
   ]
  },
  {
   "cell_type": "code",
   "execution_count": 25,
   "id": "1b56046b",
   "metadata": {},
   "outputs": [
    {
     "name": "stdout",
     "output_type": "stream",
     "text": [
      "0     False\n",
      "1     False\n",
      "2     False\n",
      "3     False\n",
      "4     False\n",
      "5     False\n",
      "6     False\n",
      "8     False\n",
      "9     False\n",
      "10    False\n",
      "11    False\n",
      "12     True\n",
      "13    False\n",
      "14    False\n",
      "15    False\n",
      "16    False\n",
      "17    False\n",
      "18    False\n",
      "19    False\n",
      "20    False\n",
      "21    False\n",
      "22    False\n",
      "23    False\n",
      "24    False\n",
      "25    False\n",
      "26    False\n",
      "27    False\n",
      "28    False\n",
      "29    False\n",
      "30    False\n",
      "31    False\n",
      "dtype: bool\n"
     ]
    }
   ],
   "source": [
    "print(data_frame.duplicated())   # shows TRue against row 12 indacating its duplicate of row above (i.e row 11)"
   ]
  },
  {
   "cell_type": "markdown",
   "id": "aacdad41",
   "metadata": {},
   "source": [
    "- To remove duplicates, use the <span style=\"color:red\">\n",
    "drop_duplicates() \n",
    "    </span>method."
   ]
  },
  {
   "cell_type": "code",
   "execution_count": 27,
   "id": "82658ddf",
   "metadata": {},
   "outputs": [
    {
     "name": "stdout",
     "output_type": "stream",
     "text": [
      "    Duration        Date  Pulse  Maxpulse  Calories\n",
      "0         60   12/1/2020    110       130     409.1\n",
      "1         60   12/2/2020    117       145     479.0\n",
      "2         60   12/3/2020    103       135     340.0\n",
      "3         45   12/4/2020    109       175     282.4\n",
      "4         45   12/5/2020    117       148     406.0\n",
      "5         60   12/6/2020    102       127     300.0\n",
      "6         60   12/7/2020    110       136     374.0\n",
      "8         30   12/9/2020    109       133     195.1\n",
      "9         60  12/10/2020     98       124     269.0\n",
      "10        60  12/11/2020    103       147     329.3\n",
      "11        60  12/12/2020    100       120     250.7\n",
      "13        60  12/13/2020    106       128     345.3\n",
      "14        60  12/14/2020    104       132     379.3\n",
      "15        60  12/15/2020     98       123     275.0\n",
      "16        60  12/16/2020     98       120     215.2\n",
      "17        60  12/17/2020    100       120     300.0\n",
      "18        45  12/18/2020     90       112       NaN\n",
      "19        60  12/19/2020    103       123     323.0\n",
      "20        45  12/20/2020     97       125     243.0\n",
      "21        60  12/21/2020    108       131     364.2\n",
      "22        45         NaN    100       119     282.0\n",
      "23        60  12/23/2020    130       101     300.0\n",
      "24        45  12/24/2020    105       132     246.0\n",
      "25        60  12/25/2020    102       126     334.5\n",
      "26        60    20201226    100       120     250.0\n",
      "27        60  12/27/2020     92       118     241.0\n",
      "28        60  12/28/2020    103       132       NaN\n",
      "29        60  12/29/2020    100       132     280.0\n",
      "30        60  12/30/2020    102       129     380.3\n",
      "31        60  12/31/2020     92       115     243.0\n"
     ]
    }
   ],
   "source": [
    "data_frame.drop_duplicates(inplace = True)\n",
    "\n",
    "print(data_frame.to_string())  # row 12 deleted"
   ]
  }
 ],
 "metadata": {
  "kernelspec": {
   "display_name": "Python 3 (ipykernel)",
   "language": "python",
   "name": "python3"
  },
  "language_info": {
   "codemirror_mode": {
    "name": "ipython",
    "version": 3
   },
   "file_extension": ".py",
   "mimetype": "text/x-python",
   "name": "python",
   "nbconvert_exporter": "python",
   "pygments_lexer": "ipython3",
   "version": "3.9.12"
  }
 },
 "nbformat": 4,
 "nbformat_minor": 5
}
