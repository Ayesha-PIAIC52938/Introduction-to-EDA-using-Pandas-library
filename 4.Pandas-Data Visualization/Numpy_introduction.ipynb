{
 "cells": [
  {
   "cell_type": "markdown",
   "id": "f7691418",
   "metadata": {},
   "source": [
    "# <div class = \"alert alert-info\"> NumPy Introduction"
   ]
  },
  {
   "cell_type": "markdown",
   "id": "6d05661c",
   "metadata": {},
   "source": [
    "### <div class = \"alert alert-success\"> What is NumPy?\n",
    "NumPy is a Python library used for working with arrays.\n",
    "\n",
    "It also has functions for working in domain of linear algebra, fourier transform, and matrices.\n",
    "\n",
    "NumPy was created in 2005 by Travis Oliphant. It is an open source project and you can use it freely.\n",
    "\n",
    "NumPy stands for Numerical Python.\n",
    "\n",
    "### <div class = \"alert alert-success\"> Why Use NumPy?\n",
    "In Python we have lists that serve the purpose of arrays, but they are slow to process.\n",
    "\n",
    "NumPy aims to provide an array object that is up to 50x faster than traditional Python lists.\n",
    "\n",
    "The array object in NumPy is called ndarray, it provides a lot of supporting functions that make working with ndarray very easy.\n",
    "\n",
    "Arrays are very frequently used in data science, where speed and resources are very important.\n",
    "    \n",
    "### <div class = \"alert alert-success\">Why is NumPy Faster Than Lists?\n",
    "NumPy arrays are stored at one continuous place in memory unlike lists, so processes can access and manipulate them very efficiently.\n",
    "\n",
    "This behavior is called locality of reference in computer science.\n",
    "\n",
    "This is the main reason why NumPy is faster than lists. Also it is optimized to work with latest CPU architectures.\n",
    "\n",
    "### <div class = \"alert alert-success\">Which Language is NumPy written in?\n",
    "NumPy is a Python library and is written partially in Python, but most of the parts that require fast computation are written in C or C++.\n",
    "\n",
    "### <div class = \"alert alert-success\">Where is the NumPy Codebase?\n",
    "The source code for NumPy is located at this github repository https://github.com/numpy/numpy"
   ]
  },
  {
   "cell_type": "markdown",
   "id": "940516e1",
   "metadata": {},
   "source": [
    "### <div class = \"alert alert-danger\">Import NumPy\n",
    "Once NumPy is installed, import it in your applications by adding the <span style=\"color:red\">\n",
    "import\n",
    "    </span> keyword:\n"
   ]
  },
  {
   "cell_type": "code",
   "execution_count": 3,
   "id": "997397fb",
   "metadata": {},
   "outputs": [],
   "source": [
    "import numpy as np  # NumPy is imported and ready to use.\n",
    "\n",
    "# NumPy is usually imported under the np alias."
   ]
  },
  {
   "cell_type": "code",
   "execution_count": 5,
   "id": "417e761d",
   "metadata": {},
   "outputs": [
    {
     "name": "stdout",
     "output_type": "stream",
     "text": [
      "[1 2 3 4 5]\n"
     ]
    }
   ],
   "source": [
    "arr = np.array([1, 2, 3, 4, 5])     #array is equivalent to list\n",
    "\n",
    "print(arr)"
   ]
  },
  {
   "cell_type": "markdown",
   "id": "019b86da",
   "metadata": {},
   "source": [
    "# <div class = \"alert alert-info\">NumPy Creating Arrays\n",
    "    \n",
    "- Create a NumPy ndarray Object:\n",
    "    \n",
    "    NumPy is used to work with arrays. The array object in NumPy is called ndarray.\n",
    "    We can create a NumPy ndarray object by using the <span style=\"color:red\">array() </span>  function."
   ]
  },
  {
   "cell_type": "code",
   "execution_count": 8,
   "id": "3da26ca7",
   "metadata": {},
   "outputs": [
    {
     "name": "stdout",
     "output_type": "stream",
     "text": [
      "[1 2 3 4 5]\n",
      "<class 'numpy.ndarray'>\n"
     ]
    }
   ],
   "source": [
    "arr = np.array([1, 2, 3, 4, 5])\n",
    "\n",
    "print(arr)\n",
    "\n",
    "print(type(arr))"
   ]
  },
  {
   "cell_type": "markdown",
   "id": "fbd702d4",
   "metadata": {},
   "source": [
    "To create an ndarray, we can pass a list, tuple or any array-like object into the <span style=\"color:red\">array() </span>  method, and it will be converted into an ndarray:"
   ]
  },
  {
   "cell_type": "code",
   "execution_count": 7,
   "id": "c6a22311",
   "metadata": {},
   "outputs": [
    {
     "name": "stdout",
     "output_type": "stream",
     "text": [
      "[1 2 3 4 5]\n"
     ]
    }
   ],
   "source": [
    "print(np.array((1, 2, 3, 4, 5)))"
   ]
  },
  {
   "cell_type": "markdown",
   "id": "38e90e81",
   "metadata": {},
   "source": [
    "###   <div class = \"alert alert-danger\">Dimensions in Arrays\n",
    "A dimension in arrays is one level of array depth (nested arrays).\n",
    "\n",
    "### 0-D Arrays\n",
    "0-D arrays, or Scalars, are the elements in an array. Each value in an array is a 0-D array.\n",
    "\n",
    "<div class = \"alert alert-warning\"> Nested array: are arrays that have arrays as their elements.<div>"
   ]
  },
  {
   "cell_type": "code",
   "execution_count": 10,
   "id": "406063a9",
   "metadata": {},
   "outputs": [
    {
     "name": "stdout",
     "output_type": "stream",
     "text": [
      "42\n"
     ]
    }
   ],
   "source": [
    "arr0 = np.array(42)\n",
    "\n",
    "print(arr0)"
   ]
  },
  {
   "cell_type": "markdown",
   "id": "fa10fa07",
   "metadata": {},
   "source": [
    "### 1-D Arrays\n",
    "An array that has 0-D arrays as its elements is called uni-dimensional or 1-D array.\n",
    "\n",
    "These are the most common and basic arrays."
   ]
  },
  {
   "cell_type": "code",
   "execution_count": 11,
   "id": "fd24dbc7",
   "metadata": {},
   "outputs": [
    {
     "name": "stdout",
     "output_type": "stream",
     "text": [
      "[1 2 3 4 5]\n"
     ]
    }
   ],
   "source": [
    "# Create a 1-D array containing the values 1,2,3,4,5:\n",
    "\n",
    "arr1 = np.array([1, 2, 3, 4, 5])\n",
    "\n",
    "print(arr1)"
   ]
  },
  {
   "cell_type": "markdown",
   "id": "b0cddbf4",
   "metadata": {},
   "source": [
    "### 2-D Arrays\n",
    "An array that has 1-D arrays as its elements is called a 2-D array.\n",
    "\n",
    "These are often used to represent matrix or 2nd order tensors.\n",
    "\n",
    "<div class = \"alert alert-warning\"> NumPy has a whole sub module dedicated towards matrix operations called <span style=\"color:red\">numpy.mat</span> "
   ]
  },
  {
   "cell_type": "code",
   "execution_count": 12,
   "id": "7e233efe",
   "metadata": {},
   "outputs": [
    {
     "name": "stdout",
     "output_type": "stream",
     "text": [
      "[[1 2 3]\n",
      " [4 5 6]]\n"
     ]
    }
   ],
   "source": [
    "#Create a 2-D array containing two arrays with the values 1,2,3 and 4,5,6:\n",
    "\n",
    "arr2 = np.array([[1, 2, 3], [4, 5, 6]])\n",
    "\n",
    "print(arr2)"
   ]
  },
  {
   "cell_type": "markdown",
   "id": "4daaa142",
   "metadata": {},
   "source": [
    "### 3-D arrays\n",
    "An array that has 2-D arrays (matrices) as its elements is called 3-D array.\n",
    "\n",
    "These are often used to represent a 3rd order tensor."
   ]
  },
  {
   "cell_type": "code",
   "execution_count": 13,
   "id": "2ae14d49",
   "metadata": {},
   "outputs": [
    {
     "name": "stdout",
     "output_type": "stream",
     "text": [
      "[[[1 2 3]\n",
      "  [4 5 6]]\n",
      "\n",
      " [[1 2 3]\n",
      "  [4 5 6]]]\n"
     ]
    }
   ],
   "source": [
    "\n",
    "# Create a 3-D array with two 2-D arrays, both containing two arrays with the values 1,2,3 and 4,5,6:\n",
    "\n",
    "arr3 = np.array([[[1, 2, 3], [4, 5, 6]], [[1, 2, 3], [4, 5, 6]]])\n",
    "print(arr3)"
   ]
  },
  {
   "cell_type": "markdown",
   "id": "278d4d5f",
   "metadata": {},
   "source": [
    "###   <div class = \"alert alert-danger\">Check Number of Dimensions?\n",
    "NumPy Arrays provides the <span style=\"color:red\">ndim </span>attribute that returns an integer that tells us how many dimensions the array have."
   ]
  },
  {
   "cell_type": "code",
   "execution_count": 17,
   "id": "0a4c809f",
   "metadata": {},
   "outputs": [
    {
     "name": "stdout",
     "output_type": "stream",
     "text": [
      "array 0D: 0\n",
      "array 1D: 1\n",
      "array 2D: 2\n",
      "array 3D: 3\n"
     ]
    }
   ],
   "source": [
    "# Check how many dimensions the arrays have:\n",
    "\n",
    "print(\"array 0D:\",arr0.ndim)\n",
    "print(\"array 1D:\",arr1.ndim)\n",
    "print(\"array 2D:\",arr2.ndim)\n",
    "print(\"array 3D:\",arr3.ndim)"
   ]
  },
  {
   "cell_type": "markdown",
   "id": "3beb209a",
   "metadata": {},
   "source": [
    "###   <div class = \"alert alert-danger\"> Higher Dimensional Arrays\n",
    "An array can have any number of dimensions.\n",
    "\n",
    "When the array is created, you can define the number of dimensions by using the  <span style=\"color:red\">ndim </span> argument."
   ]
  },
  {
   "cell_type": "code",
   "execution_count": 18,
   "id": "6ac0d98b",
   "metadata": {},
   "outputs": [
    {
     "name": "stdout",
     "output_type": "stream",
     "text": [
      "[[[[[1 2 3 4]]]]]\n",
      "number of dimensions : 1\n"
     ]
    }
   ],
   "source": [
    "arry = np.array([1, 2, 3, 4], ndmin=5)\n",
    "\n",
    "print(arry)\n",
    "print('number of dimensions :', arr.ndim)"
   ]
  },
  {
   "cell_type": "markdown",
   "id": "675ff15c",
   "metadata": {},
   "source": [
    "In this array the innermost dimension (5th dim) has 4 elements, the 4th dim has 1 element that is the vector, the 3rd dim has 1 element that is the matrix with the vector, the 2nd dim has 1 element that is 3D array and 1st dim has 1 element that is a 4D array."
   ]
  }
 ],
 "metadata": {
  "kernelspec": {
   "display_name": "Python 3 (ipykernel)",
   "language": "python",
   "name": "python3"
  },
  "language_info": {
   "codemirror_mode": {
    "name": "ipython",
    "version": 3
   },
   "file_extension": ".py",
   "mimetype": "text/x-python",
   "name": "python",
   "nbconvert_exporter": "python",
   "pygments_lexer": "ipython3",
   "version": "3.9.12"
  }
 },
 "nbformat": 4,
 "nbformat_minor": 5
}
