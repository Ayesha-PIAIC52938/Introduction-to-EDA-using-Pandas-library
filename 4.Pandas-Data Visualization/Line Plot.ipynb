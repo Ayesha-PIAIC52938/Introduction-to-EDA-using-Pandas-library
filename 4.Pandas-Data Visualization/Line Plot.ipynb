{
 "cells": [
  {
   "cell_type": "markdown",
   "id": "69e5f0f2",
   "metadata": {},
   "source": [
    "### <div class = \"alert alert-success\"> Line Plot :  \n",
    "\n",
    "    plt.plot( x,y ) \n",
    "    \n",
    "Linear plots are best for viewing patterns and trends\n",
    "    "
   ]
  },
  {
   "cell_type": "code",
   "execution_count": 1,
   "id": "6d4d367a",
   "metadata": {},
   "outputs": [],
   "source": [
    "# all libraries are imported at top\n",
    "\n",
    "import matplotlib.pyplot as plt   # matplot library\n",
    "# Most of the Matplotlib utilities lies under the pyplot submodule, and are usually imported under the plt alias \n",
    "\n",
    "import numpy as np"
   ]
  },
  {
   "cell_type": "code",
   "execution_count": 2,
   "id": "c3a75487",
   "metadata": {},
   "outputs": [
    {
     "data": {
      "image/png": "[encoded data removed]",
      "text/plain": [
       "<Figure size 432x288 with 1 Axes>"
      ]
     },
     "metadata": {
      "needs_background": "light"
     },
     "output_type": "display_data"
    }
   ],
   "source": [
    "# create the data\n",
    "\n",
    "x_axis = np.linspace(0, 20)\n",
    "y_axis = x_axis + 0.5\n",
    "\n",
    "# Draw the plot\n",
    "plt.plot(x_axis, y_axis,\"*\", label='linear line plot')  # label is to name the legands that are displayed on plot using legent() method\n",
    "\n",
    "# naming the x axis\n",
    "plt.xlabel('x - axis')\n",
    "# naming the y axis\n",
    "plt.ylabel('y - axis')\n",
    "# giving a title to my graph\n",
    "plt.title('Linear plot')\n",
    "  \n",
    "# show a legend on the plot\n",
    "plt.legend()\n",
    "  \n",
    "# Display the chart\n",
    "plt.show()"
   ]
  },
  {
   "cell_type": "markdown",
   "id": "fad19d57",
   "metadata": {},
   "source": [
    "### Example:"
   ]
  },
  {
   "cell_type": "markdown",
   "id": "4962a009",
   "metadata": {},
   "source": [
    "### <div class = \"alert alert-warning\"> Line Plot explanation :<div >\n",
    "\n",
    "<b> <span style=\"color:red\">linspace():</span>    </b>\n",
    "    \n",
    "<b> np.linspace(start, stop, num=50, endpoint=True, retstep=False, dtype=None, axis=0) </b>\n",
    "    \n",
    "The NumPy linspace function (sometimes called np.linspace) is a tool in Python for creating numeric sequences.\n",
    "It returns num evenly spaced samples, calculated over the interval [start, stop].\n",
    "The endpoint of the interval can optionally be excluded.\n",
    "    \n",
    "<b><span style=\"color:green\"> Parameters: </span> </b>\n",
    "    \n",
    "<b>start:</b>\n",
    "The starting value of the sequence.\n",
    "\n",
    "<b>stop:</b>\n",
    "The end value of the sequence, unless endpoint is set to False. In that case, the sequence consists of all but the last of num + 1 evenly spaced samples, so that stop is excluded. Note that the step size changes when endpoint is False.\n",
    "\n",
    "<b>numint:</b>\n",
    "Optional,number of samples to generate. Default is 50. Must be non-negative.\n",
    "\n",
    "<b>endpointbool:</b> \n",
    "Optional, if True, stop is the last sample. Otherwise, it is not included. Default is True.\n",
    "\n",
    "<b>retstepbool</b>\n",
    "Optional, if True, return (samples, step), where step is the spacing between samples.\n",
    "\n",
    "<b>dtypedtype:</b>\n",
    "Optional, the type of the output array. If dtype is not given, the data type is inferred from start and stop. The inferred dtype will never be an integer; float is chosen even if the arguments would produce an array of integers.\n",
    "\n",
    "<b>axisint</b>\n",
    "Optional, the axis in the result to store the samples. Relevant only if start or stop are array-like. By default (0), the samples will be along a new axis inserted at the beginning. Use -1 to get an axis at the end.\n",
    "\n",
    "    \n",
    "<b> <span style=\"color:red\">plot():</span>    </b>\n",
    "\n",
    "The plot() function is used to draw points (markers) in a diagram.\n",
    "By default, the plot() function draws a line from point to point.\n",
    "The function takes parameters for specifying points in the diagram.\n",
    "\n",
    "    \n",
    "<b> plt.plot(X,Y,'o, ., * or -\",label = 'any name') </b>\n",
    "\n",
    "X: is an array containing the points on the x-axis.\n",
    "Y: is an array containing the points on the y-axis.\n",
    "'o, ., * or -\" : draws plot using o, ., * or - (whichever is spacified)\\\n",
    "    \n",
    " \n",
    "<b> <span style=\"color:red\">plt.xlabel()</span>    </b>: Labels the x axis\n",
    " \n",
    "<b> <span style=\"color:red\">plt.ylabel()</span>    </b>: Labels the y axis\n",
    " \n",
    "<b> <span style=\"color:red\">plt.title()</span>    </b>: Giving a title to the graph\n",
    "  \n",
    " \n",
    "<b> <span style=\"color:red\">plt.legend()</span>    </b>: Show a legend on the plot\n",
    "  \n",
    "\n",
    "<b> <span style=\"color:red\">plt.show()</span>    </b>: Display the chart"
   ]
  }
 ],
 "metadata": {
  "kernelspec": {
   "display_name": "Python 3 (ipykernel)",
   "language": "python",
   "name": "python3"
  },
  "language_info": {
   "codemirror_mode": {
    "name": "ipython",
    "version": 3
   },
   "file_extension": ".py",
   "mimetype": "text/x-python",
   "name": "python",
   "nbconvert_exporter": "python",
   "pygments_lexer": "ipython3",
   "version": "3.9.12"
  }
 },
 "nbformat": 4,
 "nbformat_minor": 5
}
