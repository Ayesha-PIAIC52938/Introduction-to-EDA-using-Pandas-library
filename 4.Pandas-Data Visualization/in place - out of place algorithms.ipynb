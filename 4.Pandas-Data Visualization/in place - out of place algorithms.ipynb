{
 "cells": [
  {
   "cell_type": "markdown",
   "id": "7078a87c",
   "metadata": {},
   "source": [
    "# <div class = \"alert alert-info\"> inp lace and out of place:</div>"
   ]
  },
  {
   "cell_type": "markdown",
   "id": "9bd21eaa",
   "metadata": {},
   "source": [
    "### <div class = \"alert alert-success\">In place algorithms (inplace = True): <div>\n",
    "    \n",
    "Using the inplace = True keyword in a pandas method changes the default behaviour such that the operation on the dataframe doesn’t return anything, it instead ‘modifies the underlying data’ (more on that later). It mutates the actual object which you apply it to.\n",
    "\n",
    "This means that any other objects referencing this dataframe (such as slices) will now see the modified version of the data — not the original.\n",
    "\n",
    "Imagine having an ice-cream, it’s frozen, but then you want to melt it. If you use inplace=True you change the state of the object. You can’t get your unmelted ice-cream back."
   ]
  },
  {
   "cell_type": "markdown",
   "id": "15af251e",
   "metadata": {},
   "source": [
    "### <div class = \"alert alert-success\">out of place algorithms (inplace = False): <div>\n",
    "    \n",
    "Alternatively, when using inplace=False (which is the default behaviour) the dataframe operation returns a copy of the dataframe, leaving the original data intact. We are no longer constrained by the laws of physics, we can have our cake and eat it too. "
   ]
  },
  {
   "cell_type": "markdown",
   "id": "aa51aab1",
   "metadata": {},
   "source": [
    "### <div class = \"alert alert-success\">Create a sample data frame   (optional)\n",
    "In order to illustrate the usage of inplace we will create a sample data frame."
   ]
  },
  {
   "cell_type": "code",
   "execution_count": 2,
   "id": "d18111cb",
   "metadata": {},
   "outputs": [
    {
     "data": {
      "text/html": [
       "<div>\n",
       "<style scoped>\n",
       "    .dataframe tbody tr th:only-of-type {\n",
       "        vertical-align: middle;\n",
       "    }\n",
       "\n",
       "    .dataframe tbody tr th {\n",
       "        vertical-align: top;\n",
       "    }\n",
       "\n",
       "    .dataframe thead th {\n",
       "        text-align: right;\n",
       "    }\n",
       "</style>\n",
       "<table border=\"1\" class=\"dataframe\">\n",
       "  <thead>\n",
       "    <tr style=\"text-align: right;\">\n",
       "      <th></th>\n",
       "      <th>name</th>\n",
       "      <th>second name</th>\n",
       "      <th>birth place</th>\n",
       "      <th>age</th>\n",
       "      <th>number of children</th>\n",
       "    </tr>\n",
       "  </thead>\n",
       "  <tbody>\n",
       "    <tr>\n",
       "      <th>0</th>\n",
       "      <td>Michael</td>\n",
       "      <td>None</td>\n",
       "      <td>New York</td>\n",
       "      <td>10.0</td>\n",
       "      <td>0.0</td>\n",
       "    </tr>\n",
       "    <tr>\n",
       "      <th>1</th>\n",
       "      <td>Ana</td>\n",
       "      <td>Angel</td>\n",
       "      <td>New York</td>\n",
       "      <td>35.0</td>\n",
       "      <td>NaN</td>\n",
       "    </tr>\n",
       "    <tr>\n",
       "      <th>2</th>\n",
       "      <td>Sean</td>\n",
       "      <td>Ben</td>\n",
       "      <td>Los Angeles</td>\n",
       "      <td>56.0</td>\n",
       "      <td>2.0</td>\n",
       "    </tr>\n",
       "    <tr>\n",
       "      <th>3</th>\n",
       "      <td>Carl</td>\n",
       "      <td>Frank</td>\n",
       "      <td>New York</td>\n",
       "      <td>NaN</td>\n",
       "      <td>1.0</td>\n",
       "    </tr>\n",
       "    <tr>\n",
       "      <th>4</th>\n",
       "      <td>Bob</td>\n",
       "      <td>Daniel</td>\n",
       "      <td>New York</td>\n",
       "      <td>28.0</td>\n",
       "      <td>1.0</td>\n",
       "    </tr>\n",
       "  </tbody>\n",
       "</table>\n",
       "</div>"
      ],
      "text/plain": [
       "      name second name  birth place   age  number of children\n",
       "0  Michael        None     New York  10.0                 0.0\n",
       "1      Ana       Angel     New York  35.0                 NaN\n",
       "2     Sean         Ben  Los Angeles  56.0                 2.0\n",
       "3     Carl       Frank     New York   NaN                 1.0\n",
       "4      Bob      Daniel     New York  28.0                 1.0"
      ]
     },
     "execution_count": 2,
     "metadata": {},
     "output_type": "execute_result"
    }
   ],
   "source": [
    "import pandas as pd\n",
    "import numpy as np\n",
    "client_dictionary = {'name': ['Michael', 'Ana', 'Sean', 'Carl', 'Bob'], \n",
    "                     'second name': [None, 'Angel', 'Ben', 'Frank', 'Daniel'],\n",
    "                     'birth place': ['New York', 'New York', 'Los Angeles', 'New York', 'New York'],\n",
    "                     'age': [10, 35, 56, None, 28],\n",
    "                     'number of children': [0, None, 2, 1, 1]}\n",
    "df = pd.DataFrame(client_dictionary)\n",
    "df.head()"
   ]
  },
  {
   "cell_type": "markdown",
   "id": "35b207d1",
   "metadata": {},
   "source": [
    "We have created a data frame with five rows with the following columns: name, second name, birthplace, and number of children. Note that there are some missing values in age, second name, and children column (NaNs).\n",
    "\n",
    "We will now demonstrate how dropna() function works with inplace parameter. Because we would like to examine two different variants we are going to create two copies of our original data frame."
   ]
  },
  {
   "cell_type": "code",
   "execution_count": 3,
   "id": "f3358c6c",
   "metadata": {},
   "outputs": [],
   "source": [
    "df_1 = df.copy()\n",
    "df_2 = df.copy()\n"
   ]
  },
  {
   "cell_type": "markdown",
   "id": "bb33c3ad",
   "metadata": {},
   "source": [
    "#### <div class = \"alert alert-success\">dropna() with inplace = True :\n",
    "\n",
    "Let’s start with the variation where inplace=True. The code below drops all missing rows with missing values."
   ]
  },
  {
   "cell_type": "code",
   "execution_count": 4,
   "id": "81669bfe",
   "metadata": {},
   "outputs": [],
   "source": [
    "df_1.dropna(inplace=True)"
   ]
  },
  {
   "cell_type": "markdown",
   "id": "4ac2433a",
   "metadata": {},
   "source": [
    "If you run this in Jupyter notebook you will see that the cell has no output. This is because function with inplace=True does not return anything. It modifies an existing data frame with the desired operation and does it ‘in place’, that is on the original data frame.\n",
    "\n",
    "If you run head() function on the data frame you should see that two rows are dropped.\n"
   ]
  },
  {
   "cell_type": "code",
   "execution_count": 5,
   "id": "51123b02",
   "metadata": {},
   "outputs": [
    {
     "data": {
      "text/html": [
       "<div>\n",
       "<style scoped>\n",
       "    .dataframe tbody tr th:only-of-type {\n",
       "        vertical-align: middle;\n",
       "    }\n",
       "\n",
       "    .dataframe tbody tr th {\n",
       "        vertical-align: top;\n",
       "    }\n",
       "\n",
       "    .dataframe thead th {\n",
       "        text-align: right;\n",
       "    }\n",
       "</style>\n",
       "<table border=\"1\" class=\"dataframe\">\n",
       "  <thead>\n",
       "    <tr style=\"text-align: right;\">\n",
       "      <th></th>\n",
       "      <th>name</th>\n",
       "      <th>second name</th>\n",
       "      <th>birth place</th>\n",
       "      <th>age</th>\n",
       "      <th>number of children</th>\n",
       "    </tr>\n",
       "  </thead>\n",
       "  <tbody>\n",
       "    <tr>\n",
       "      <th>2</th>\n",
       "      <td>Sean</td>\n",
       "      <td>Ben</td>\n",
       "      <td>Los Angeles</td>\n",
       "      <td>56.0</td>\n",
       "      <td>2.0</td>\n",
       "    </tr>\n",
       "    <tr>\n",
       "      <th>4</th>\n",
       "      <td>Bob</td>\n",
       "      <td>Daniel</td>\n",
       "      <td>New York</td>\n",
       "      <td>28.0</td>\n",
       "      <td>1.0</td>\n",
       "    </tr>\n",
       "  </tbody>\n",
       "</table>\n",
       "</div>"
      ],
      "text/plain": [
       "   name second name  birth place   age  number of children\n",
       "2  Sean         Ben  Los Angeles  56.0                 2.0\n",
       "4   Bob      Daniel     New York  28.0                 1.0"
      ]
     },
     "execution_count": 5,
     "metadata": {},
     "output_type": "execute_result"
    }
   ],
   "source": [
    "df_1.head()"
   ]
  },
  {
   "cell_type": "markdown",
   "id": "7470ca6e",
   "metadata": {},
   "source": [
    "#### <div class = \"alert alert-success\">dropna() with inplace = False (default)\n",
    "\n",
    "Now let’s run the same code with inplace = False. Note that we are now going to use df_2 version of data frame this time."
   ]
  },
  {
   "cell_type": "code",
   "execution_count": 6,
   "id": "59ac4956",
   "metadata": {},
   "outputs": [
    {
     "data": {
      "text/html": [
       "<div>\n",
       "<style scoped>\n",
       "    .dataframe tbody tr th:only-of-type {\n",
       "        vertical-align: middle;\n",
       "    }\n",
       "\n",
       "    .dataframe tbody tr th {\n",
       "        vertical-align: top;\n",
       "    }\n",
       "\n",
       "    .dataframe thead th {\n",
       "        text-align: right;\n",
       "    }\n",
       "</style>\n",
       "<table border=\"1\" class=\"dataframe\">\n",
       "  <thead>\n",
       "    <tr style=\"text-align: right;\">\n",
       "      <th></th>\n",
       "      <th>name</th>\n",
       "      <th>second name</th>\n",
       "      <th>birth place</th>\n",
       "      <th>age</th>\n",
       "      <th>number of children</th>\n",
       "    </tr>\n",
       "  </thead>\n",
       "  <tbody>\n",
       "    <tr>\n",
       "      <th>2</th>\n",
       "      <td>Sean</td>\n",
       "      <td>Ben</td>\n",
       "      <td>Los Angeles</td>\n",
       "      <td>56.0</td>\n",
       "      <td>2.0</td>\n",
       "    </tr>\n",
       "    <tr>\n",
       "      <th>4</th>\n",
       "      <td>Bob</td>\n",
       "      <td>Daniel</td>\n",
       "      <td>New York</td>\n",
       "      <td>28.0</td>\n",
       "      <td>1.0</td>\n",
       "    </tr>\n",
       "  </tbody>\n",
       "</table>\n",
       "</div>"
      ],
      "text/plain": [
       "   name second name  birth place   age  number of children\n",
       "2  Sean         Ben  Los Angeles  56.0                 2.0\n",
       "4   Bob      Daniel     New York  28.0                 1.0"
      ]
     },
     "execution_count": 6,
     "metadata": {},
     "output_type": "execute_result"
    }
   ],
   "source": [
    "df_2.dropna(inplace=False)"
   ]
  },
  {
   "cell_type": "markdown",
   "id": "4f17390a",
   "metadata": {},
   "source": [
    "If you run this code in Jupyter notebook you will see that there is an output (the screenshot above). The function with inplace = False returns a data frame with dropped rows.\n",
    "\n",
    "Remember that when inplace was set to True nothing was returned but the original data frame was modified.\n",
    "\n",
    "So what happens with the original data frame this time? Let’s call head() function to check."
   ]
  },
  {
   "cell_type": "code",
   "execution_count": 7,
   "id": "e3c175e5",
   "metadata": {},
   "outputs": [
    {
     "data": {
      "text/html": [
       "<div>\n",
       "<style scoped>\n",
       "    .dataframe tbody tr th:only-of-type {\n",
       "        vertical-align: middle;\n",
       "    }\n",
       "\n",
       "    .dataframe tbody tr th {\n",
       "        vertical-align: top;\n",
       "    }\n",
       "\n",
       "    .dataframe thead th {\n",
       "        text-align: right;\n",
       "    }\n",
       "</style>\n",
       "<table border=\"1\" class=\"dataframe\">\n",
       "  <thead>\n",
       "    <tr style=\"text-align: right;\">\n",
       "      <th></th>\n",
       "      <th>name</th>\n",
       "      <th>second name</th>\n",
       "      <th>birth place</th>\n",
       "      <th>age</th>\n",
       "      <th>number of children</th>\n",
       "    </tr>\n",
       "  </thead>\n",
       "  <tbody>\n",
       "    <tr>\n",
       "      <th>0</th>\n",
       "      <td>Michael</td>\n",
       "      <td>None</td>\n",
       "      <td>New York</td>\n",
       "      <td>10.0</td>\n",
       "      <td>0.0</td>\n",
       "    </tr>\n",
       "    <tr>\n",
       "      <th>1</th>\n",
       "      <td>Ana</td>\n",
       "      <td>Angel</td>\n",
       "      <td>New York</td>\n",
       "      <td>35.0</td>\n",
       "      <td>NaN</td>\n",
       "    </tr>\n",
       "    <tr>\n",
       "      <th>2</th>\n",
       "      <td>Sean</td>\n",
       "      <td>Ben</td>\n",
       "      <td>Los Angeles</td>\n",
       "      <td>56.0</td>\n",
       "      <td>2.0</td>\n",
       "    </tr>\n",
       "    <tr>\n",
       "      <th>3</th>\n",
       "      <td>Carl</td>\n",
       "      <td>Frank</td>\n",
       "      <td>New York</td>\n",
       "      <td>NaN</td>\n",
       "      <td>1.0</td>\n",
       "    </tr>\n",
       "    <tr>\n",
       "      <th>4</th>\n",
       "      <td>Bob</td>\n",
       "      <td>Daniel</td>\n",
       "      <td>New York</td>\n",
       "      <td>28.0</td>\n",
       "      <td>1.0</td>\n",
       "    </tr>\n",
       "  </tbody>\n",
       "</table>\n",
       "</div>"
      ],
      "text/plain": [
       "      name second name  birth place   age  number of children\n",
       "0  Michael        None     New York  10.0                 0.0\n",
       "1      Ana       Angel     New York  35.0                 NaN\n",
       "2     Sean         Ben  Los Angeles  56.0                 2.0\n",
       "3     Carl       Frank     New York   NaN                 1.0\n",
       "4      Bob      Daniel     New York  28.0                 1.0"
      ]
     },
     "execution_count": 7,
     "metadata": {},
     "output_type": "execute_result"
    }
   ],
   "source": [
    "df_2.head()"
   ]
  },
  {
   "cell_type": "markdown",
   "id": "2c3b69a0",
   "metadata": {},
   "source": [
    "But wait! This is exactly what we were doing when using inplace=True. Yes, this last line of code is equivalent to the following line:"
   ]
  },
  {
   "cell_type": "code",
   "execution_count": 8,
   "id": "755200cc",
   "metadata": {},
   "outputs": [],
   "source": [
    "df_2.dropna(inplace=True)"
   ]
  },
  {
   "cell_type": "markdown",
   "id": "d200b732",
   "metadata": {},
   "source": [
    "The latter one is more elegant and does not create an intermediary object that is then reassigned to the original variable. It changes the original data frame directly, therefore, preferred if your intention is to change the original data frame.\n",
    "\n",
    "Simple, no?\n",
    "\n",
    "So, why there are so many mistakes with it? I am not sure, probably because some people still do not understand how to use this parameter properly. Let’s have a look at some common mistakes."
   ]
  },
  {
   "cell_type": "markdown",
   "id": "d494bd6a",
   "metadata": {},
   "source": [
    "#### 1). using inplace = True with a slice of the dataframe:\n",
    "\n",
    "I have noticed that several times. Let’s go back to our data frame example from the beginning of this article. There are free columns that have None values: second name, age, and number of children.\n",
    "\n",
    "What do we do if we just want to drop None’s from the second name and age column and leave the number of children column unchanged?\n",
    "\n",
    "I have seen people try to do the following:"
   ]
  },
  {
   "cell_type": "code",
   "execution_count": 9,
   "id": "eee1cbdc",
   "metadata": {},
   "outputs": [
    {
     "name": "stderr",
     "output_type": "stream",
     "text": [
      "C:\\Users\\Ayesha\\AppData\\Local\\Temp\\ipykernel_10664\\816656851.py:1: SettingWithCopyWarning: \n",
      "A value is trying to be set on a copy of a slice from a DataFrame\n",
      "\n",
      "See the caveats in the documentation: https://pandas.pydata.org/pandas-docs/stable/user_guide/indexing.html#returning-a-view-versus-a-copy\n",
      "  df[['second name', 'age']].dropna(inplace=True)\n"
     ]
    }
   ],
   "source": [
    "df[['second name', 'age']].dropna(inplace=True)\n"
   ]
  },
  {
   "cell_type": "markdown",
   "id": "96621c4d",
   "metadata": {},
   "source": [
    "Above warning is shown because pandas designers are nice and they actually try to warn you from doing something that you probably do not want to do. The code is changing the slice of the data frame that has only two columns not the original data frame. The reason for this is that you have chosen a slice of the data frame and you apply dropna() to this slice and not the original data frame.\n",
    "\n",
    "In order to correct it use dropna() on the whole data frame with subset parameter."
   ]
  },
  {
   "cell_type": "code",
   "execution_count": 10,
   "id": "0a83b502",
   "metadata": {},
   "outputs": [
    {
     "data": {
      "text/html": [
       "<div>\n",
       "<style scoped>\n",
       "    .dataframe tbody tr th:only-of-type {\n",
       "        vertical-align: middle;\n",
       "    }\n",
       "\n",
       "    .dataframe tbody tr th {\n",
       "        vertical-align: top;\n",
       "    }\n",
       "\n",
       "    .dataframe thead th {\n",
       "        text-align: right;\n",
       "    }\n",
       "</style>\n",
       "<table border=\"1\" class=\"dataframe\">\n",
       "  <thead>\n",
       "    <tr style=\"text-align: right;\">\n",
       "      <th></th>\n",
       "      <th>name</th>\n",
       "      <th>second name</th>\n",
       "      <th>birth place</th>\n",
       "      <th>age</th>\n",
       "      <th>number of children</th>\n",
       "    </tr>\n",
       "  </thead>\n",
       "  <tbody>\n",
       "    <tr>\n",
       "      <th>1</th>\n",
       "      <td>Ana</td>\n",
       "      <td>Angel</td>\n",
       "      <td>New York</td>\n",
       "      <td>35.0</td>\n",
       "      <td>NaN</td>\n",
       "    </tr>\n",
       "    <tr>\n",
       "      <th>2</th>\n",
       "      <td>Sean</td>\n",
       "      <td>Ben</td>\n",
       "      <td>Los Angeles</td>\n",
       "      <td>56.0</td>\n",
       "      <td>2.0</td>\n",
       "    </tr>\n",
       "    <tr>\n",
       "      <th>4</th>\n",
       "      <td>Bob</td>\n",
       "      <td>Daniel</td>\n",
       "      <td>New York</td>\n",
       "      <td>28.0</td>\n",
       "      <td>1.0</td>\n",
       "    </tr>\n",
       "  </tbody>\n",
       "</table>\n",
       "</div>"
      ],
      "text/plain": [
       "   name second name  birth place   age  number of children\n",
       "1   Ana       Angel     New York  35.0                 NaN\n",
       "2  Sean         Ben  Los Angeles  56.0                 2.0\n",
       "4   Bob      Daniel     New York  28.0                 1.0"
      ]
     },
     "execution_count": 10,
     "metadata": {},
     "output_type": "execute_result"
    }
   ],
   "source": [
    "df.dropna(inplace=True, subset=['second name', 'age'])\n",
    "df.head()"
   ]
  },
  {
   "cell_type": "markdown",
   "id": "4684b2e4",
   "metadata": {},
   "source": [
    "This should result in rows with null values in second name and age column being dropped from the data frame."
   ]
  },
  {
   "cell_type": "markdown",
   "id": "a91d46f0",
   "metadata": {},
   "source": [
    "#### 2). assigning variable value to the result of inplace = True\n",
    "\n",
    "I have seen this several times as well."
   ]
  },
  {
   "cell_type": "code",
   "execution_count": 11,
   "id": "7f866b05",
   "metadata": {},
   "outputs": [],
   "source": [
    "df = df.dropna(inplace=True)\n"
   ]
  },
  {
   "cell_type": "markdown",
   "id": "fe42a645",
   "metadata": {},
   "source": [
    "This is again something you never should do! You just reassigning None to value of df. Remember when you use inplace=True then nothing is returned. Therefore the result os this code will assign None to df."
   ]
  }
 ],
 "metadata": {
  "kernelspec": {
   "display_name": "Python 3 (ipykernel)",
   "language": "python",
   "name": "python3"
  },
  "language_info": {
   "codemirror_mode": {
    "name": "ipython",
    "version": 3
   },
   "file_extension": ".py",
   "mimetype": "text/x-python",
   "name": "python",
   "nbconvert_exporter": "python",
   "pygments_lexer": "ipython3",
   "version": "3.9.12"
  }
 },
 "nbformat": 4,
 "nbformat_minor": 5
}
