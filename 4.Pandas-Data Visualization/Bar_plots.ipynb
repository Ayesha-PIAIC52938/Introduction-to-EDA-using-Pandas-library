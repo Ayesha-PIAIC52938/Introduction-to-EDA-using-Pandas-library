{
 "cells": [
  {
   "cell_type": "markdown",
   "id": "8bf22db7",
   "metadata": {},
   "source": [
    "# <div class = \"alert alert-success\"> Bar Plot :\n",
    "    \n",
    "         plt.bar(x,y)\n",
    "        \n",
    "\n",
    "With Pyplot, you can use the <span style=\"color:red\">bar()</span> function to draw bar graphs:\n",
    "    "
   ]
  },
  {
   "cell_type": "code",
   "execution_count": 2,
   "id": "77ee940b",
   "metadata": {},
   "outputs": [],
   "source": [
    "import matplotlib.pyplot as plt\n",
    "import numpy as np"
   ]
  },
  {
   "cell_type": "code",
   "execution_count": 3,
   "id": "45010c65",
   "metadata": {},
   "outputs": [
    {
     "data": {
      "image/png": "[encoded data removed]",
      "text/plain": [
       "<Figure size 432x288 with 1 Axes>"
      ]
     },
     "metadata": {
      "needs_background": "light"
     },
     "output_type": "display_data"
    }
   ],
   "source": [
    "x = np.array([\"A\", \"B\", \"C\", \"D\"])\n",
    "y = np.array([3, 8, 1, 10])\n",
    "\n",
    "plt.bar(x,y)\n",
    "plt.show()   "
   ]
  },
  {
   "cell_type": "markdown",
   "id": "597857c1",
   "metadata": {},
   "source": [
    "The <span style=\"color:red\"> bar()</span> function takes arguments that describes the layout of the bars.\n",
    "\n",
    "The categories and their values represented by the first and second argument as arrays.\n",
    "\n"
   ]
  },
  {
   "cell_type": "code",
   "execution_count": 4,
   "id": "eb3eebe0",
   "metadata": {},
   "outputs": [
    {
     "data": {
      "text/plain": [
       "<BarContainer object of 2 artists>"
      ]
     },
     "execution_count": 4,
     "metadata": {},
     "output_type": "execute_result"
    },
    {
     "data": {
      "image/png": "[encoded data removed]",
      "text/plain": [
       "<Figure size 432x288 with 1 Axes>"
      ]
     },
     "metadata": {
      "needs_background": "light"
     },
     "output_type": "display_data"
    }
   ],
   "source": [
    "x = [\"APPLES\", \"BANANAS\"]\n",
    "y = [400, 350]\n",
    "plt.bar(x, y)#             <span style=\"color:red\">  </span>"
   ]
  },
  {
   "cell_type": "markdown",
   "id": "34209ada",
   "metadata": {},
   "source": [
    "### Horizontal Bars:\n",
    "If you want the bars to be displayed horizontally instead of vertically, use the  <span style=\"color:red\"> barh() </span> function:"
   ]
  },
  {
   "cell_type": "code",
   "execution_count": 5,
   "id": "353136b1",
   "metadata": {},
   "outputs": [
    {
     "data": {
      "image/png": "[encoded data removed]",
      "text/plain": [
       "<Figure size 432x288 with 1 Axes>"
      ]
     },
     "metadata": {
      "needs_background": "light"
     },
     "output_type": "display_data"
    }
   ],
   "source": [
    "x = np.array([\"A\", \"B\", \"C\", \"D\"])\n",
    "y = np.array([3, 8, 1, 10])\n",
    "\n",
    "plt.barh(x, y)\n",
    "plt.show()"
   ]
  },
  {
   "cell_type": "markdown",
   "id": "a1c81173",
   "metadata": {},
   "source": [
    "### Bar Color:\n",
    "The <span style=\"color:red\">bar() </span> and <span style=\"color:red\">  barh()</span> takes the keyword argument <span style=\"color:red\">color </span>to set the color of the bars:"
   ]
  },
  {
   "cell_type": "code",
   "execution_count": 6,
   "id": "6753940c",
   "metadata": {},
   "outputs": [
    {
     "data": {
      "image/png": "[encoded data removed]",
      "text/plain": [
       "<Figure size 432x288 with 1 Axes>"
      ]
     },
     "metadata": {
      "needs_background": "light"
     },
     "output_type": "display_data"
    }
   ],
   "source": [
    "x = np.array([\"A\", \"B\", \"C\", \"D\"])\n",
    "y = np.array([3, 8, 1, 10])\n",
    "\n",
    "plt.bar(x, y, color = \"red\")\n",
    "plt.show()"
   ]
  },
  {
   "cell_type": "markdown",
   "id": "e7109a53",
   "metadata": {},
   "source": [
    "### Color Names:\n",
    "You can use any of the 140 supported color names."
   ]
  },
  {
   "cell_type": "code",
   "execution_count": 8,
   "id": "e5de83fd",
   "metadata": {},
   "outputs": [
    {
     "data": {
      "image/png": "[encoded data removed]",
      "text/plain": [
       "<Figure size 432x288 with 1 Axes>"
      ]
     },
     "metadata": {
      "needs_background": "light"
     },
     "output_type": "display_data"
    }
   ],
   "source": [
    "plt.bar(x, y, color = \"hotpink\")\n",
    "plt.show()"
   ]
  },
  {
   "cell_type": "markdown",
   "id": "ecbe921b",
   "metadata": {},
   "source": [
    "Color Hex\n",
    "Or you can use Hexadecimal color values:\n",
    "\n",
    "\n"
   ]
  },
  {
   "cell_type": "code",
   "execution_count": 9,
   "id": "343a2ba6",
   "metadata": {},
   "outputs": [
    {
     "data": {
      "image/png": "[encoded data removed]",
      "text/plain": [
       "<Figure size 432x288 with 1 Axes>"
      ]
     },
     "metadata": {
      "needs_background": "light"
     },
     "output_type": "display_data"
    }
   ],
   "source": [
    "\n",
    "plt.bar(x, y, color = \"#4CAF50\")\n",
    "plt.show()  "
   ]
  },
  {
   "cell_type": "markdown",
   "id": "e8931dc0",
   "metadata": {},
   "source": [
    "### Bar Width:\n",
    "The  <span style=\"color:red\">bar()</span> takes the keyword argument <span style=\"color:red\">  width </span>to set the width of the bars:"
   ]
  },
  {
   "cell_type": "code",
   "execution_count": 10,
   "id": "dd84a133",
   "metadata": {},
   "outputs": [
    {
     "data": {
      "image/png": "[encoded data removed]",
      "text/plain": [
       "<Figure size 432x288 with 1 Axes>"
      ]
     },
     "metadata": {
      "needs_background": "light"
     },
     "output_type": "display_data"
    }
   ],
   "source": [
    "plt.bar(x, y, width = 0.1)\n",
    "plt.show()                           #             <span style=\"color:red\">  </span>"
   ]
  },
  {
   "cell_type": "markdown",
   "id": "eb60b826",
   "metadata": {},
   "source": [
    "The default width value is 0.8\n",
    "\n",
    "- Note: For horizontal bars, use  <span style=\"color:red\"> heigh</span>t instead of <span style=\"color:red\"> width</span>."
   ]
  },
  {
   "cell_type": "markdown",
   "id": "74428dc4",
   "metadata": {},
   "source": [
    "### Bar Height:\n",
    "The <span style=\"color:red\">barh()</span> takes the keyword argument <span style=\"color:red\">height </span> to set the height of the bars:"
   ]
  },
  {
   "cell_type": "code",
   "execution_count": 11,
   "id": "baba5413",
   "metadata": {},
   "outputs": [
    {
     "data": {
      "image/png": "[encoded data removed]",
      "text/plain": [
       "<Figure size 432x288 with 1 Axes>"
      ]
     },
     "metadata": {
      "needs_background": "light"
     },
     "output_type": "display_data"
    }
   ],
   "source": [
    "plt.barh(x, y, height = 0.1)\n",
    "plt.show()"
   ]
  },
  {
   "cell_type": "markdown",
   "id": "ad156984",
   "metadata": {},
   "source": [
    "The default height value is 0.8"
   ]
  }
 ],
 "metadata": {
  "kernelspec": {
   "display_name": "Python 3 (ipykernel)",
   "language": "python",
   "name": "python3"
  },
  "language_info": {
   "codemirror_mode": {
    "name": "ipython",
    "version": 3
   },
   "file_extension": ".py",
   "mimetype": "text/x-python",
   "name": "python",
   "nbconvert_exporter": "python",
   "pygments_lexer": "ipython3",
   "version": "3.9.12"
  }
 },
 "nbformat": 4,
 "nbformat_minor": 5
}
