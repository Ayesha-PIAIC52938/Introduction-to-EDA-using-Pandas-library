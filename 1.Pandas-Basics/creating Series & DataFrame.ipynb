{
 "cells": [
  {
   "cell_type": "markdown",
   "id": "c7871793",
   "metadata": {},
   "source": [
    "# <div class= \"alert alert-success\">Series and DataFrames\n",
    "\n",
    "Both series and DataFrame are the two types of data sets in Pandas. \n",
    "(Series is like a column, a DataFrame is the whole table.)\n",
    "- A Pandas Series is like a column in a table.It is a one-dimensional array holding data of any type\n",
    "- A Pandas DataFrame is a 2 dimensional data structure, like a 2 dimensional array, or a table with rows and columns.\n",
    "\n",
    "\n"
   ]
  },
  {
   "cell_type": "code",
   "execution_count": 1,
   "id": "c708017a",
   "metadata": {},
   "outputs": [],
   "source": [
    "import pandas as pd         #  Import Pandas library by pd alias (alternate name for referring to the pandas)"
   ]
  },
  {
   "cell_type": "markdown",
   "id": "17b2a070",
   "metadata": {},
   "source": [
    "## <div class= \"alert alert-info\">(1) Series"
   ]
  },
  {
   "cell_type": "code",
   "execution_count": 2,
   "id": "cc64128d",
   "metadata": {},
   "outputs": [
    {
     "name": "stdout",
     "output_type": "stream",
     "text": [
      "0        1\n",
      "1        7\n",
      "2        2\n",
      "3    apple\n",
      "4     True\n",
      "5    hello\n",
      "dtype: object\n"
     ]
    }
   ],
   "source": [
    "a = [1, 7, 2, \"apple\", True, \"hello\" ]\n",
    "\n",
    "myvar = pd.Series(a)   # series method creats a 1 colum table that is labeled/indexed starting from 0 by default \n",
    "\n",
    "print(myvar)"
   ]
  },
  {
   "cell_type": "markdown",
   "id": "7f024f4a",
   "metadata": {},
   "source": [
    "### Labels\n",
    "If nothing else is specified, the values in a series are labeled with their index number. First value has index 0, second value has index 1 etc.These labels can be used to access a specified value."
   ]
  },
  {
   "cell_type": "code",
   "execution_count": 3,
   "id": "b3ac2aeb",
   "metadata": {},
   "outputs": [
    {
     "name": "stdout",
     "output_type": "stream",
     "text": [
      "hello 2\n"
     ]
    }
   ],
   "source": [
    "print(myvar[5],myvar[2])"
   ]
  },
  {
   "cell_type": "markdown",
   "id": "c7b2c200",
   "metadata": {},
   "source": [
    "### Create Labels\n",
    "With the index argument, custom labels can be created:"
   ]
  },
  {
   "cell_type": "code",
   "execution_count": 4,
   "id": "3053a2dc",
   "metadata": {},
   "outputs": [
    {
     "name": "stdout",
     "output_type": "stream",
     "text": [
      "a        1\n",
      "b        7\n",
      "c        2\n",
      "x    apple\n",
      "y     True\n",
      "z    hello\n",
      "dtype: object\n",
      " \n",
      "1 hello\n"
     ]
    }
   ],
   "source": [
    "myvar = pd.Series(a, index = [\"a\", \"b\", \"c\", \"x\", \"y\", \"z\"])  # index argument, custom labels\n",
    "\n",
    "print(myvar)\n",
    "print(\" \")\n",
    "print(myvar[\"a\"],myvar[\"z\"])"
   ]
  },
  {
   "cell_type": "markdown",
   "id": "a6036cdc",
   "metadata": {},
   "source": [
    "### Dictionary as Series\n",
    "key/value of dictionary can also create a Series.The keys of the dictionary become the labels and the value becoms data"
   ]
  },
  {
   "cell_type": "code",
   "execution_count": 5,
   "id": "12c23327",
   "metadata": {},
   "outputs": [
    {
     "name": "stdout",
     "output_type": "stream",
     "text": [
      "D1    420\n",
      "D2    380\n",
      "D3    390\n",
      "dtype: int64\n",
      " \n",
      "420\n"
     ]
    }
   ],
   "source": [
    "calories = {\"D1\": 420, \"D2\": 380, \"D3\": 390}\n",
    "\n",
    "myvar = pd.Series(calories)\n",
    "\n",
    "print(myvar)\n",
    "\n",
    "print(\" \")\n",
    "print(myvar[\"D1\"])"
   ]
  },
  {
   "cell_type": "markdown",
   "id": "ac661799",
   "metadata": {},
   "source": [
    "## <div class= \"alert alert-info\"> (2) DataFrames"
   ]
  },
  {
   "cell_type": "code",
   "execution_count": 6,
   "id": "ab13d750",
   "metadata": {},
   "outputs": [
    {
     "name": "stdout",
     "output_type": "stream",
     "text": [
      "   calories  duration\n",
      "0       420        50\n",
      "1       380        40\n",
      "2       390        45\n"
     ]
    }
   ],
   "source": [
    "data = {\"calories\": [420, 380, 390], \"duration\": [50, 40, 45]} \n",
    "\n",
    "df = pd.DataFrame(data)    #creating DataFrame object with two series :cars and passings\n",
    "\n",
    "print(df)\n",
    "\n",
    "# the vertical index (0,1,2) are the Row index and the horizontal index (Cars,Passings) are column/attributes index"
   ]
  },
  {
   "cell_type": "markdown",
   "id": "c39490bf",
   "metadata": {},
   "source": [
    "### Locate Row\n",
    "As you can see from the result above, the DataFrame is like a table with rows and columns/attributes. To return one or more specified row(s) use the loc attribute\n",
    "- For a single row: DataFrame_name,loc[row_index]\n",
    "- For multiple rows:DataFrame_name,loc[ [row1_index, row2_index,... ] ]"
   ]
  },
  {
   "cell_type": "code",
   "execution_count": 7,
   "id": "b1fbc5b1",
   "metadata": {},
   "outputs": [
    {
     "name": "stdout",
     "output_type": "stream",
     "text": [
      "calories    420\n",
      "duration     50\n",
      "Name: 0, dtype: int64\n"
     ]
    }
   ],
   "source": [
    "print(df.loc[0])     #returning a single row (series)\n",
    "\n",
    "#  print(df.loc[0]) return a series"
   ]
  },
  {
   "cell_type": "code",
   "execution_count": 8,
   "id": "8d4b6917",
   "metadata": {},
   "outputs": [
    {
     "name": "stdout",
     "output_type": "stream",
     "text": [
      "   calories  duration\n",
      "0       420        50\n"
     ]
    }
   ],
   "source": [
    "print(df.loc[[0]])     #returning a dataFrame\n",
    "\n",
    "#  print(df.loc[[0]) return a DataFrame"
   ]
  },
  {
   "cell_type": "code",
   "execution_count": 9,
   "id": "3c1b5019",
   "metadata": {},
   "outputs": [
    {
     "name": "stdout",
     "output_type": "stream",
     "text": [
      "   calories  duration\n",
      "0       420        50\n",
      "2       390        45\n"
     ]
    }
   ],
   "source": [
    "print(df.loc[[0,2]])     #returning 2 rows\n",
    "\n",
    "# print(df.loc[[]]) returns the empty DataFrame "
   ]
  },
  {
   "cell_type": "markdown",
   "id": "0d62af16",
   "metadata": {},
   "source": [
    "### Named Indexes/Labels\n",
    "Just like series, we can also have custom labels in DataFrames using the index argument."
   ]
  },
  {
   "cell_type": "code",
   "execution_count": 10,
   "id": "5cacd4fe",
   "metadata": {},
   "outputs": [
    {
     "name": "stdout",
     "output_type": "stream",
     "text": [
      "   calories  duration\n",
      "A       420        50\n",
      "B       380        40\n",
      "C       390        45\n",
      "-----------------------\n",
      "calories    380\n",
      "duration     40\n",
      "Name: B, dtype: int64\n",
      "-----------------------\n",
      "   calories  duration\n",
      "B       380        40\n"
     ]
    }
   ],
   "source": [
    "df = pd.DataFrame(data, index = [\"A\", \"B\", \"C\"])\n",
    "\n",
    "print(df) \n",
    "print(\"-----------------------\")\n",
    "\n",
    "print(df.loc[\"B\"])  #refer to the named index(series) :\n",
    "\n",
    "print(\"-----------------------\")\n",
    "\n",
    "print(df.loc[[\"B\"]])  #refer to the named index(DataFrame) :"
   ]
  }
 ],
 "metadata": {
  "kernelspec": {
   "display_name": "Python 3 (ipykernel)",
   "language": "python",
   "name": "python3"
  },
  "language_info": {
   "codemirror_mode": {
    "name": "ipython",
    "version": 3
   },
   "file_extension": ".py",
   "mimetype": "text/x-python",
   "name": "python",
   "nbconvert_exporter": "python",
   "pygments_lexer": "ipython3",
   "version": "3.9.12"
  }
 },
 "nbformat": 4,
 "nbformat_minor": 5
}
