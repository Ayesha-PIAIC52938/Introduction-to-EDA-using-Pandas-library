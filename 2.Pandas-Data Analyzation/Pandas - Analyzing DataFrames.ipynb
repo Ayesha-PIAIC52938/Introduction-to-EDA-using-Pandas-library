{
 "cells": [
  {
   "cell_type": "markdown",
   "id": "080f69db",
   "metadata": {},
   "source": [
    "# <div class= \"alert alert-success\"> Analyzing DataFrames"
   ]
  },
  {
   "cell_type": "code",
   "execution_count": 1,
   "id": "fc1db2d8",
   "metadata": {},
   "outputs": [],
   "source": [
    "# all libraries are imported at top\n",
    "import pandas as pd       \n"
   ]
  },
  {
   "cell_type": "code",
   "execution_count": 3,
   "id": "8483d1d4",
   "metadata": {},
   "outputs": [],
   "source": [
    "path = \"../bicycle_dataset/data.csv\"\n",
    "data_frame = pd.read_csv(path)    #loading csv file (bicycle ride dataset) to a DataFrame\n",
    "\n",
    "# print(df.to_string())     # To view the whole DataFrame"
   ]
  },
  {
   "cell_type": "markdown",
   "id": "a267fa93",
   "metadata": {},
   "source": [
    "###  <div class = \"alert alert-info\"> Info About the Data\n",
    "\n",
    "    info() method gives us more information about the data set."
   ]
  },
  {
   "cell_type": "code",
   "execution_count": 4,
   "id": "936dd211",
   "metadata": {},
   "outputs": [
    {
     "name": "stdout",
     "output_type": "stream",
     "text": [
      "<class 'pandas.core.frame.DataFrame'>\n",
      "RangeIndex: 9495235 entries, 0 to 9495234\n",
      "Data columns (total 23 columns):\n",
      " #   Column             Dtype  \n",
      "---  ------             -----  \n",
      " 0   trip_id            int64  \n",
      " 1   year               int64  \n",
      " 2   month              int64  \n",
      " 3   week               int64  \n",
      " 4   day                int64  \n",
      " 5   hour               int64  \n",
      " 6   usertype           object \n",
      " 7   gender             object \n",
      " 8   starttime          object \n",
      " 9   stoptime           object \n",
      " 10  tripduration       float64\n",
      " 11  temperature        float64\n",
      " 12  events             object \n",
      " 13  from_station_id    int64  \n",
      " 14  from_station_name  object \n",
      " 15  latitude_start     float64\n",
      " 16  longitude_start    float64\n",
      " 17  dpcapacity_start   float64\n",
      " 18  to_station_id      int64  \n",
      " 19  to_station_name    object \n",
      " 20  latitude_end       float64\n",
      " 21  longitude_end      float64\n",
      " 22  dpcapacity_end     float64\n",
      "dtypes: float64(8), int64(8), object(7)\n",
      "memory usage: 1.6+ GB\n"
     ]
    }
   ],
   "source": [
    "data_frame.info()"
   ]
  },
  {
   "cell_type": "markdown",
   "id": "8d3a245e",
   "metadata": {},
   "source": [
    "###  <div class = \"alert alert-info\"> Viewing the Data"
   ]
  },
  {
   "cell_type": "markdown",
   "id": "cef90ffa",
   "metadata": {},
   "source": [
    "####  <div class = \"alert alert-danger\">i) head( ) method : </div>\n",
    "Common method for a quick overview of the DataFrame, is the head() method.The head() method returns the headers and a specified number of rows, starting from the top. "
   ]
  },
  {
   "cell_type": "code",
   "execution_count": 5,
   "id": "32fd97e6",
   "metadata": {},
   "outputs": [
    {
     "name": "stdout",
     "output_type": "stream",
     "text": [
      "   trip_id  year  month  week  day  hour    usertype gender  \\\n",
      "0  2355134  2014      6    27    0    23  Subscriber   Male   \n",
      "1  2355133  2014      6    27    0    23  Subscriber   Male   \n",
      "\n",
      "             starttime             stoptime  ...  from_station_id  \\\n",
      "0  2014-06-30 23:57:00  2014-07-01 00:07:00  ...              131   \n",
      "1  2014-06-30 23:56:00  2014-07-01 00:00:00  ...              282   \n",
      "\n",
      "           from_station_name latitude_start  longitude_start dpcapacity_start  \\\n",
      "0  Lincoln Ave & Belmont Ave      41.939365       -87.668385             15.0   \n",
      "1    Halsted St & Maxwell St      41.864580       -87.646930             15.0   \n",
      "\n",
      "   to_station_id          to_station_name  latitude_end  longitude_end  \\\n",
      "0            303  Broadway & Cornelia Ave     41.945512     -87.645980   \n",
      "1             22       May St & Taylor St     41.869482     -87.655486   \n",
      "\n",
      "  dpcapacity_end  \n",
      "0           15.0  \n",
      "1           15.0  \n",
      "\n",
      "[2 rows x 23 columns]\n"
     ]
    }
   ],
   "source": [
    "print(data_frame.head(2))  # head shows specified number of rows of DataFrame from top. By default shows 5 rows"
   ]
  },
  {
   "cell_type": "markdown",
   "id": "d26f674c",
   "metadata": {},
   "source": [
    "    If the number of rows is not specified, the head() method will return the top 5 rows."
   ]
  },
  {
   "cell_type": "code",
   "execution_count": 6,
   "id": "f4b7e696",
   "metadata": {},
   "outputs": [
    {
     "name": "stdout",
     "output_type": "stream",
     "text": [
      "   trip_id  year  month  week  day  hour    usertype  gender  \\\n",
      "0  2355134  2014      6    27    0    23  Subscriber    Male   \n",
      "1  2355133  2014      6    27    0    23  Subscriber    Male   \n",
      "2  2355130  2014      6    27    0    23  Subscriber    Male   \n",
      "3  2355129  2014      6    27    0    23  Subscriber  Female   \n",
      "4  2355128  2014      6    27    0    23  Subscriber  Female   \n",
      "\n",
      "             starttime             stoptime  ...  from_station_id  \\\n",
      "0  2014-06-30 23:57:00  2014-07-01 00:07:00  ...              131   \n",
      "1  2014-06-30 23:56:00  2014-07-01 00:00:00  ...              282   \n",
      "2  2014-06-30 23:33:00  2014-06-30 23:35:00  ...              327   \n",
      "3  2014-06-30 23:26:00  2014-07-01 00:24:00  ...              134   \n",
      "4  2014-06-30 23:16:00  2014-06-30 23:26:00  ...              320   \n",
      "\n",
      "             from_station_name latitude_start  longitude_start  \\\n",
      "0    Lincoln Ave & Belmont Ave      41.939365       -87.668385   \n",
      "1      Halsted St & Maxwell St      41.864580       -87.646930   \n",
      "2  Sheffield Ave & Webster Ave      41.921687       -87.653714   \n",
      "3     Peoria St & Jackson Blvd      41.877749       -87.649633   \n",
      "4     Loomis St & Lexington St      41.872187       -87.661501   \n",
      "\n",
      "  dpcapacity_start  to_station_id           to_station_name  latitude_end  \\\n",
      "0             15.0            303   Broadway & Cornelia Ave     41.945512   \n",
      "1             15.0             22        May St & Taylor St     41.869482   \n",
      "2             19.0            225  Halsted St & Dickens Ave     41.919936   \n",
      "3             19.0            194      State St & Wacker Dr     41.887155   \n",
      "4             15.0            134  Peoria St & Jackson Blvd     41.877749   \n",
      "\n",
      "   longitude_end dpcapacity_end  \n",
      "0     -87.645980           15.0  \n",
      "1     -87.655486           15.0  \n",
      "2     -87.648830           15.0  \n",
      "3     -87.627750           11.0  \n",
      "4     -87.649633           19.0  \n",
      "\n",
      "[5 rows x 23 columns]\n"
     ]
    }
   ],
   "source": [
    "print(data_frame.head())"
   ]
  },
  {
   "cell_type": "markdown",
   "id": "43937167",
   "metadata": {},
   "source": [
    "####  <div class = \"alert alert-danger\">ii) tail( ) method : \n",
    "The tail() method returns the headers and a specified number of rows, starting from the bottom. "
   ]
  },
  {
   "cell_type": "code",
   "execution_count": 7,
   "id": "14d3cebd",
   "metadata": {},
   "outputs": [
    {
     "name": "stdout",
     "output_type": "stream",
     "text": [
      "          trip_id  year  month  week  day  hour    usertype  gender  \\\n",
      "9495233  16734067  2017     10    39    6     0  Subscriber  Female   \n",
      "9495234  16734066  2017     10    39    6     0  Subscriber  Female   \n",
      "\n",
      "                   starttime             stoptime  ...  from_station_id  \\\n",
      "9495233  2017-10-01 00:00:00  2017-10-01 00:06:00  ...              288   \n",
      "9495234  2017-10-01 00:00:00  2017-10-01 00:12:00  ...              135   \n",
      "\n",
      "                  from_station_name latitude_start  longitude_start  \\\n",
      "9495233  Larrabee St & Armitage Ave      41.918084       -87.643749   \n",
      "9495234        Halsted St & 21st St      41.853780       -87.646650   \n",
      "\n",
      "        dpcapacity_start  to_station_id            to_station_name  \\\n",
      "9495233             11.0            289      Wells St & Concord Ln   \n",
      "9495234             11.0            129  Blue Island Ave & 18th St   \n",
      "\n",
      "         latitude_end  longitude_end dpcapacity_end  \n",
      "9495233     41.912133     -87.634656           19.0  \n",
      "9495234     41.857556     -87.661535           15.0  \n",
      "\n",
      "[2 rows x 23 columns]\n"
     ]
    }
   ],
   "source": [
    "print(data_frame.tail(2))   # tail shows specified number of rows of DataFrame from bottom. By default shows 5 rows"
   ]
  },
  {
   "cell_type": "markdown",
   "id": "57f46764",
   "metadata": {},
   "source": [
    "    If the number of rows is not specified, the tail() method will return the bottom 5 rows."
   ]
  },
  {
   "cell_type": "code",
   "execution_count": 8,
   "id": "44ef7038",
   "metadata": {},
   "outputs": [
    {
     "name": "stdout",
     "output_type": "stream",
     "text": [
      "          trip_id  year  month  week  day  hour    usertype  gender  \\\n",
      "9495230  16734072  2017     10    39    6     0  Subscriber  Female   \n",
      "9495231  16734071  2017     10    39    6     0  Subscriber    Male   \n",
      "9495232  16734070  2017     10    39    6     0  Subscriber    Male   \n",
      "9495233  16734067  2017     10    39    6     0  Subscriber  Female   \n",
      "9495234  16734066  2017     10    39    6     0  Subscriber  Female   \n",
      "\n",
      "                   starttime             stoptime  ...  from_station_id  \\\n",
      "9495230  2017-10-01 00:01:00  2017-10-01 00:12:00  ...              220   \n",
      "9495231  2017-10-01 00:01:00  2017-10-01 00:12:00  ...              220   \n",
      "9495232  2017-10-01 00:01:00  2017-10-01 00:15:00  ...              289   \n",
      "9495233  2017-10-01 00:00:00  2017-10-01 00:06:00  ...              288   \n",
      "9495234  2017-10-01 00:00:00  2017-10-01 00:12:00  ...              135   \n",
      "\n",
      "                  from_station_name latitude_start  longitude_start  \\\n",
      "9495230  Hampden Ct & Diversey Pkwy      41.932620       -87.642385   \n",
      "9495231  Hampden Ct & Diversey Pkwy      41.932620       -87.642385   \n",
      "9495232       Wells St & Concord Ln      41.912133       -87.634656   \n",
      "9495233  Larrabee St & Armitage Ave      41.918084       -87.643749   \n",
      "9495234        Halsted St & 21st St      41.853780       -87.646650   \n",
      "\n",
      "        dpcapacity_start  to_station_id             to_station_name  \\\n",
      "9495230             23.0             87  Racine Ave & Fullerton Ave   \n",
      "9495231             23.0             87  Racine Ave & Fullerton Ave   \n",
      "9495232             19.0            226    Racine Ave & Belmont Ave   \n",
      "9495233             11.0            289       Wells St & Concord Ln   \n",
      "9495234             11.0            129   Blue Island Ave & 18th St   \n",
      "\n",
      "         latitude_end  longitude_end dpcapacity_end  \n",
      "9495230     41.925563     -87.658404           19.0  \n",
      "9495231     41.925563     -87.658404           19.0  \n",
      "9495232     41.939743     -87.658865           15.0  \n",
      "9495233     41.912133     -87.634656           19.0  \n",
      "9495234     41.857556     -87.661535           15.0  \n",
      "\n",
      "[5 rows x 23 columns]\n"
     ]
    }
   ],
   "source": [
    "print(data_frame.tail())"
   ]
  },
  {
   "cell_type": "code",
   "execution_count": 9,
   "id": "a985d75b",
   "metadata": {},
   "outputs": [
    {
     "data": {
      "text/html": [
       "<div>\n",
       "<style scoped>\n",
       "    .dataframe tbody tr th:only-of-type {\n",
       "        vertical-align: middle;\n",
       "    }\n",
       "\n",
       "    .dataframe tbody tr th {\n",
       "        vertical-align: top;\n",
       "    }\n",
       "\n",
       "    .dataframe thead th {\n",
       "        text-align: right;\n",
       "    }\n",
       "</style>\n",
       "<table border=\"1\" class=\"dataframe\">\n",
       "  <thead>\n",
       "    <tr style=\"text-align: right;\">\n",
       "      <th></th>\n",
       "      <th>trip_id</th>\n",
       "      <th>year</th>\n",
       "      <th>month</th>\n",
       "      <th>week</th>\n",
       "      <th>day</th>\n",
       "      <th>hour</th>\n",
       "      <th>tripduration</th>\n",
       "      <th>temperature</th>\n",
       "      <th>from_station_id</th>\n",
       "      <th>latitude_start</th>\n",
       "      <th>longitude_start</th>\n",
       "      <th>dpcapacity_start</th>\n",
       "      <th>to_station_id</th>\n",
       "      <th>latitude_end</th>\n",
       "      <th>longitude_end</th>\n",
       "      <th>dpcapacity_end</th>\n",
       "    </tr>\n",
       "  </thead>\n",
       "  <tbody>\n",
       "    <tr>\n",
       "      <th>count</th>\n",
       "      <td>9.495235e+06</td>\n",
       "      <td>9.495235e+06</td>\n",
       "      <td>9.495235e+06</td>\n",
       "      <td>9.495235e+06</td>\n",
       "      <td>9.495235e+06</td>\n",
       "      <td>9.495235e+06</td>\n",
       "      <td>9.495235e+06</td>\n",
       "      <td>9.495235e+06</td>\n",
       "      <td>9.495235e+06</td>\n",
       "      <td>9.495235e+06</td>\n",
       "      <td>9.495235e+06</td>\n",
       "      <td>9.495235e+06</td>\n",
       "      <td>9.495235e+06</td>\n",
       "      <td>9.495235e+06</td>\n",
       "      <td>9.495235e+06</td>\n",
       "      <td>9.495235e+06</td>\n",
       "    </tr>\n",
       "    <tr>\n",
       "      <th>mean</th>\n",
       "      <td>9.861173e+06</td>\n",
       "      <td>2.015737e+03</td>\n",
       "      <td>7.161242e+00</td>\n",
       "      <td>2.938068e+01</td>\n",
       "      <td>2.687387e+00</td>\n",
       "      <td>1.362471e+01</td>\n",
       "      <td>1.144686e+01</td>\n",
       "      <td>6.299990e+01</td>\n",
       "      <td>1.799215e+02</td>\n",
       "      <td>4.190017e+01</td>\n",
       "      <td>-8.764473e+01</td>\n",
       "      <td>2.138426e+01</td>\n",
       "      <td>1.807048e+02</td>\n",
       "      <td>4.190069e+01</td>\n",
       "      <td>-8.764496e+01</td>\n",
       "      <td>2.128447e+01</td>\n",
       "    </tr>\n",
       "    <tr>\n",
       "      <th>std</th>\n",
       "      <td>4.680018e+06</td>\n",
       "      <td>1.075629e+00</td>\n",
       "      <td>2.708379e+00</td>\n",
       "      <td>1.177941e+01</td>\n",
       "      <td>1.890345e+00</td>\n",
       "      <td>4.858830e+00</td>\n",
       "      <td>7.206061e+00</td>\n",
       "      <td>1.720086e+01</td>\n",
       "      <td>1.217041e+02</td>\n",
       "      <td>3.467450e-02</td>\n",
       "      <td>2.175210e-02</td>\n",
       "      <td>7.644496e+00</td>\n",
       "      <td>1.221144e+02</td>\n",
       "      <td>3.494946e-02</td>\n",
       "      <td>2.181374e-02</td>\n",
       "      <td>7.595932e+00</td>\n",
       "    </tr>\n",
       "    <tr>\n",
       "      <th>min</th>\n",
       "      <td>1.109427e+06</td>\n",
       "      <td>2.014000e+03</td>\n",
       "      <td>1.000000e+00</td>\n",
       "      <td>1.000000e+00</td>\n",
       "      <td>0.000000e+00</td>\n",
       "      <td>0.000000e+00</td>\n",
       "      <td>2.000000e+00</td>\n",
       "      <td>-1.500000e+01</td>\n",
       "      <td>2.000000e+00</td>\n",
       "      <td>4.173665e+01</td>\n",
       "      <td>-8.780287e+01</td>\n",
       "      <td>0.000000e+00</td>\n",
       "      <td>2.000000e+00</td>\n",
       "      <td>4.173665e+01</td>\n",
       "      <td>-8.780287e+01</td>\n",
       "      <td>0.000000e+00</td>\n",
       "    </tr>\n",
       "    <tr>\n",
       "      <th>25%</th>\n",
       "      <td>5.941660e+06</td>\n",
       "      <td>2.015000e+03</td>\n",
       "      <td>5.000000e+00</td>\n",
       "      <td>2.100000e+01</td>\n",
       "      <td>1.000000e+00</td>\n",
       "      <td>9.000000e+00</td>\n",
       "      <td>6.033333e+00</td>\n",
       "      <td>5.200000e+01</td>\n",
       "      <td>7.700000e+01</td>\n",
       "      <td>4.188103e+01</td>\n",
       "      <td>-8.765479e+01</td>\n",
       "      <td>1.500000e+01</td>\n",
       "      <td>7.700000e+01</td>\n",
       "      <td>4.188132e+01</td>\n",
       "      <td>-8.765549e+01</td>\n",
       "      <td>1.500000e+01</td>\n",
       "    </tr>\n",
       "    <tr>\n",
       "      <th>50%</th>\n",
       "      <td>1.005810e+07</td>\n",
       "      <td>2.016000e+03</td>\n",
       "      <td>7.000000e+00</td>\n",
       "      <td>3.000000e+01</td>\n",
       "      <td>3.000000e+00</td>\n",
       "      <td>1.500000e+01</td>\n",
       "      <td>9.633333e+00</td>\n",
       "      <td>6.690000e+01</td>\n",
       "      <td>1.640000e+02</td>\n",
       "      <td>4.189228e+01</td>\n",
       "      <td>-8.764107e+01</td>\n",
       "      <td>1.900000e+01</td>\n",
       "      <td>1.640000e+02</td>\n",
       "      <td>4.189384e+01</td>\n",
       "      <td>-8.764109e+01</td>\n",
       "      <td>1.900000e+01</td>\n",
       "    </tr>\n",
       "    <tr>\n",
       "      <th>75%</th>\n",
       "      <td>1.383260e+07</td>\n",
       "      <td>2.017000e+03</td>\n",
       "      <td>9.000000e+00</td>\n",
       "      <td>3.800000e+01</td>\n",
       "      <td>4.000000e+00</td>\n",
       "      <td>1.700000e+01</td>\n",
       "      <td>1.520000e+01</td>\n",
       "      <td>7.590000e+01</td>\n",
       "      <td>2.680000e+02</td>\n",
       "      <td>4.192008e+01</td>\n",
       "      <td>-8.763058e+01</td>\n",
       "      <td>2.300000e+01</td>\n",
       "      <td>2.730000e+02</td>\n",
       "      <td>4.192169e+01</td>\n",
       "      <td>-8.763058e+01</td>\n",
       "      <td>2.300000e+01</td>\n",
       "    </tr>\n",
       "    <tr>\n",
       "      <th>max</th>\n",
       "      <td>1.753670e+07</td>\n",
       "      <td>2.017000e+03</td>\n",
       "      <td>1.200000e+01</td>\n",
       "      <td>5.300000e+01</td>\n",
       "      <td>6.000000e+00</td>\n",
       "      <td>2.300000e+01</td>\n",
       "      <td>6.000000e+01</td>\n",
       "      <td>9.500000e+01</td>\n",
       "      <td>6.260000e+02</td>\n",
       "      <td>4.206431e+01</td>\n",
       "      <td>-8.754939e+01</td>\n",
       "      <td>5.500000e+01</td>\n",
       "      <td>6.260000e+02</td>\n",
       "      <td>4.206431e+01</td>\n",
       "      <td>-8.754939e+01</td>\n",
       "      <td>5.500000e+01</td>\n",
       "    </tr>\n",
       "  </tbody>\n",
       "</table>\n",
       "</div>"
      ],
      "text/plain": [
       "            trip_id          year         month          week           day  \\\n",
       "count  9.495235e+06  9.495235e+06  9.495235e+06  9.495235e+06  9.495235e+06   \n",
       "mean   9.861173e+06  2.015737e+03  7.161242e+00  2.938068e+01  2.687387e+00   \n",
       "std    4.680018e+06  1.075629e+00  2.708379e+00  1.177941e+01  1.890345e+00   \n",
       "min    1.109427e+06  2.014000e+03  1.000000e+00  1.000000e+00  0.000000e+00   \n",
       "25%    5.941660e+06  2.015000e+03  5.000000e+00  2.100000e+01  1.000000e+00   \n",
       "50%    1.005810e+07  2.016000e+03  7.000000e+00  3.000000e+01  3.000000e+00   \n",
       "75%    1.383260e+07  2.017000e+03  9.000000e+00  3.800000e+01  4.000000e+00   \n",
       "max    1.753670e+07  2.017000e+03  1.200000e+01  5.300000e+01  6.000000e+00   \n",
       "\n",
       "               hour  tripduration   temperature  from_station_id  \\\n",
       "count  9.495235e+06  9.495235e+06  9.495235e+06     9.495235e+06   \n",
       "mean   1.362471e+01  1.144686e+01  6.299990e+01     1.799215e+02   \n",
       "std    4.858830e+00  7.206061e+00  1.720086e+01     1.217041e+02   \n",
       "min    0.000000e+00  2.000000e+00 -1.500000e+01     2.000000e+00   \n",
       "25%    9.000000e+00  6.033333e+00  5.200000e+01     7.700000e+01   \n",
       "50%    1.500000e+01  9.633333e+00  6.690000e+01     1.640000e+02   \n",
       "75%    1.700000e+01  1.520000e+01  7.590000e+01     2.680000e+02   \n",
       "max    2.300000e+01  6.000000e+01  9.500000e+01     6.260000e+02   \n",
       "\n",
       "       latitude_start  longitude_start  dpcapacity_start  to_station_id  \\\n",
       "count    9.495235e+06     9.495235e+06      9.495235e+06   9.495235e+06   \n",
       "mean     4.190017e+01    -8.764473e+01      2.138426e+01   1.807048e+02   \n",
       "std      3.467450e-02     2.175210e-02      7.644496e+00   1.221144e+02   \n",
       "min      4.173665e+01    -8.780287e+01      0.000000e+00   2.000000e+00   \n",
       "25%      4.188103e+01    -8.765479e+01      1.500000e+01   7.700000e+01   \n",
       "50%      4.189228e+01    -8.764107e+01      1.900000e+01   1.640000e+02   \n",
       "75%      4.192008e+01    -8.763058e+01      2.300000e+01   2.730000e+02   \n",
       "max      4.206431e+01    -8.754939e+01      5.500000e+01   6.260000e+02   \n",
       "\n",
       "       latitude_end  longitude_end  dpcapacity_end  \n",
       "count  9.495235e+06   9.495235e+06    9.495235e+06  \n",
       "mean   4.190069e+01  -8.764496e+01    2.128447e+01  \n",
       "std    3.494946e-02   2.181374e-02    7.595932e+00  \n",
       "min    4.173665e+01  -8.780287e+01    0.000000e+00  \n",
       "25%    4.188132e+01  -8.765549e+01    1.500000e+01  \n",
       "50%    4.189384e+01  -8.764109e+01    1.900000e+01  \n",
       "75%    4.192169e+01  -8.763058e+01    2.300000e+01  \n",
       "max    4.206431e+01  -8.754939e+01    5.500000e+01  "
      ]
     },
     "execution_count": 9,
     "metadata": {},
     "output_type": "execute_result"
    }
   ],
   "source": [
    "data_frame.describe()"
   ]
  },
  {
   "cell_type": "code",
   "execution_count": 10,
   "id": "39f7df15",
   "metadata": {},
   "outputs": [
    {
     "data": {
      "text/plain": [
       "(9495235,)"
      ]
     },
     "execution_count": 10,
     "metadata": {},
     "output_type": "execute_result"
    }
   ],
   "source": [
    "data_frame['usertype'].shape   # returns number of rows in 'usertype' column"
   ]
  },
  {
   "cell_type": "code",
   "execution_count": 11,
   "id": "3f509854",
   "metadata": {},
   "outputs": [
    {
     "data": {
      "text/plain": [
       "Index(['trip_id', 'year', 'month', 'week', 'day', 'hour', 'usertype', 'gender',\n",
       "       'starttime', 'stoptime', 'tripduration', 'temperature', 'events',\n",
       "       'from_station_id', 'from_station_name', 'latitude_start',\n",
       "       'longitude_start', 'dpcapacity_start', 'to_station_id',\n",
       "       'to_station_name', 'latitude_end', 'longitude_end', 'dpcapacity_end'],\n",
       "      dtype='object')"
      ]
     },
     "execution_count": 11,
     "metadata": {},
     "output_type": "execute_result"
    }
   ],
   "source": [
    "data_frame.columns   # attribute that shows column index"
   ]
  },
  {
   "cell_type": "code",
   "execution_count": 12,
   "id": "f5929b05",
   "metadata": {},
   "outputs": [
    {
     "data": {
      "text/plain": [
       "0          Subscriber\n",
       "1          Subscriber\n",
       "2          Subscriber\n",
       "3          Subscriber\n",
       "4          Subscriber\n",
       "              ...    \n",
       "9495230    Subscriber\n",
       "9495231    Subscriber\n",
       "9495232    Subscriber\n",
       "9495233    Subscriber\n",
       "9495234    Subscriber\n",
       "Name: usertype, Length: 9495235, dtype: object"
      ]
     },
     "execution_count": 12,
     "metadata": {},
     "output_type": "execute_result"
    }
   ],
   "source": [
    "data_frame['usertype']  # shows all data of usertype column"
   ]
  },
  {
   "cell_type": "markdown",
   "id": "393a9e5a",
   "metadata": {},
   "source": [
    "### <div class = \"alert alert-danger\"> How to Get Unique Values from a DataFrame Column?<div>\n",
    "\n",
    "Consider a scenario where you have a dataframe consisting of students with respect to the subjects they study. In such a condition, if you wish to identify the total number of subjects being studied overall, it is quite infeasible for you to count each row of the dataframe and identify the unique subject category. To reduce your manual work, below are the two methods by which you can easily get unique values in a column of pandas dataframe:\n",
    "\n",
    "- Using unique() method     \n",
    "- Using value_counts() method"
   ]
  },
  {
   "cell_type": "markdown",
   "id": "bd43d581",
   "metadata": {},
   "source": [
    "<div class = \"alert alert-warning\">     \n",
    "unique() method for a series (column of DataFrame):</div>\n",
    "    \n",
    "unique() method is used when we deal with a single column of a DataFrame (i.e a series) and returns all unique elements of a column. The method returns a DataFrame containing the unique elements of a column, along with their corresponding index labels.\n",
    "Uniques are returned in order of appearance. "
   ]
  },
  {
   "cell_type": "code",
   "execution_count": 13,
   "id": "33209215",
   "metadata": {},
   "outputs": [
    {
     "data": {
      "text/plain": [
       "array(['Subscriber', 'Customer', 'Dependent'], dtype=object)"
      ]
     },
     "execution_count": 13,
     "metadata": {},
     "output_type": "execute_result"
    }
   ],
   "source": [
    "data_frame['usertype'].unique() # shows the value that could be assigned to each usertype i.e Subscriber,Customer or Dependent\n",
    "\n",
    "#out of the 9495234 values, usertypr could be assign Subscriber,Customer or Dependent values"
   ]
  },
  {
   "cell_type": "markdown",
   "id": "58db5e0e",
   "metadata": {},
   "source": [
    "<div class = \"alert alert-warning\">     \n",
    " value_counts() method:</div>\n",
    " \n",
    "The value_counts() method returns a Series containing the counts of unique values. This means, for any column in a dataframe, this method returns the count of unique entries in that column. Simply put value_counts() method returns occurences of unique value in a DataFrame column (series)"
   ]
  },
  {
   "cell_type": "code",
   "execution_count": 14,
   "id": "6eebef1d",
   "metadata": {},
   "outputs": [
    {
     "data": {
      "text/plain": [
       "Subscriber    9493780\n",
       "Customer         1277\n",
       "Dependent         178\n",
       "Name: usertype, dtype: int64"
      ]
     },
     "execution_count": 14,
     "metadata": {},
     "output_type": "execute_result"
    }
   ],
   "source": [
    "data_frame['usertype'].value_counts()"
   ]
  },
  {
   "cell_type": "markdown",
   "id": "c0844c9f",
   "metadata": {},
   "source": [
    "- Insight: Subscribed user are taking the most rides"
   ]
  },
  {
   "cell_type": "markdown",
   "id": "fbaf7225",
   "metadata": {},
   "source": [
    "### <div class = \"alert alert-danger\"> shape() method<div>\n",
    "    \n",
    "The shape of a DataFrame is a tuple that tells the number of rows and columns of a given DataFrame.\n",
    "\n",
    "The DataFrame.shape attribute in Pandas enables us to obtain the shape of a DataFrame. For example, if a DataFrame has a shape of (80, 10) , this implies that the DataFrame is made up of 80 rows and 10 columns of data."
   ]
  },
  {
   "cell_type": "code",
   "execution_count": 15,
   "id": "d2654a6f",
   "metadata": {},
   "outputs": [
    {
     "data": {
      "text/plain": [
       "(9495235, 23)"
      ]
     },
     "execution_count": 15,
     "metadata": {},
     "output_type": "execute_result"
    }
   ],
   "source": [
    "data_frame.shape  # returns (rows,columns)"
   ]
  },
  {
   "cell_type": "code",
   "execution_count": 16,
   "id": "fa2df179",
   "metadata": {},
   "outputs": [
    {
     "data": {
      "text/plain": [
       "(9495235,)"
      ]
     },
     "execution_count": 16,
     "metadata": {},
     "output_type": "execute_result"
    }
   ],
   "source": [
    "data_frame['gender'].shape"
   ]
  },
  {
   "cell_type": "code",
   "execution_count": 17,
   "id": "ac85cf24",
   "metadata": {},
   "outputs": [
    {
     "data": {
      "text/plain": [
       "array(['Male', 'Female'], dtype=object)"
      ]
     },
     "execution_count": 17,
     "metadata": {},
     "output_type": "execute_result"
    }
   ],
   "source": [
    "data_frame['gender'].unique()"
   ]
  },
  {
   "cell_type": "markdown",
   "id": "af28ad65",
   "metadata": {},
   "source": [
    "### <div class = \"alert alert-danger\"> Filtering out rows<div>"
   ]
  },
  {
   "cell_type": "code",
   "execution_count": 18,
   "id": "a9e6fb79",
   "metadata": {},
   "outputs": [
    {
     "data": {
      "text/plain": [
       "0          False\n",
       "1          False\n",
       "2          False\n",
       "3           True\n",
       "4           True\n",
       "           ...  \n",
       "9495230     True\n",
       "9495231    False\n",
       "9495232    False\n",
       "9495233     True\n",
       "9495234     True\n",
       "Name: gender, Length: 9495235, dtype: bool"
      ]
     },
     "execution_count": 18,
     "metadata": {},
     "output_type": "execute_result"
    }
   ],
   "source": [
    "data_frame['gender'] == 'Female'  # Say we are interestes in female riders only. This is a predicate"
   ]
  },
  {
   "cell_type": "markdown",
   "id": "0483709c",
   "metadata": {},
   "source": [
    "- row index against which there is True are femaol bike riders\n",
    "- A predicate is a function that always returns True or False by performing some condition operations in a filter method. Simply put a boolean expression is called a predicate "
   ]
  },
  {
   "cell_type": "markdown",
   "id": "21f89c40",
   "metadata": {},
   "source": [
    "<div class = \"alert alert-warning\">     \n",
    "To filter out Male riders so that only Female riders data is available: \n",
    "</div>"
   ]
  },
  {
   "cell_type": "code",
   "execution_count": 19,
   "id": "b6d1e4da",
   "metadata": {},
   "outputs": [
    {
     "data": {
      "text/html": [
       "<div>\n",
       "<style scoped>\n",
       "    .dataframe tbody tr th:only-of-type {\n",
       "        vertical-align: middle;\n",
       "    }\n",
       "\n",
       "    .dataframe tbody tr th {\n",
       "        vertical-align: top;\n",
       "    }\n",
       "\n",
       "    .dataframe thead th {\n",
       "        text-align: right;\n",
       "    }\n",
       "</style>\n",
       "<table border=\"1\" class=\"dataframe\">\n",
       "  <thead>\n",
       "    <tr style=\"text-align: right;\">\n",
       "      <th></th>\n",
       "      <th>trip_id</th>\n",
       "      <th>year</th>\n",
       "      <th>month</th>\n",
       "      <th>week</th>\n",
       "      <th>day</th>\n",
       "      <th>hour</th>\n",
       "      <th>usertype</th>\n",
       "      <th>gender</th>\n",
       "      <th>starttime</th>\n",
       "      <th>stoptime</th>\n",
       "      <th>...</th>\n",
       "      <th>from_station_id</th>\n",
       "      <th>from_station_name</th>\n",
       "      <th>latitude_start</th>\n",
       "      <th>longitude_start</th>\n",
       "      <th>dpcapacity_start</th>\n",
       "      <th>to_station_id</th>\n",
       "      <th>to_station_name</th>\n",
       "      <th>latitude_end</th>\n",
       "      <th>longitude_end</th>\n",
       "      <th>dpcapacity_end</th>\n",
       "    </tr>\n",
       "  </thead>\n",
       "  <tbody>\n",
       "    <tr>\n",
       "      <th>3</th>\n",
       "      <td>2355129</td>\n",
       "      <td>2014</td>\n",
       "      <td>6</td>\n",
       "      <td>27</td>\n",
       "      <td>0</td>\n",
       "      <td>23</td>\n",
       "      <td>Subscriber</td>\n",
       "      <td>Female</td>\n",
       "      <td>2014-06-30 23:26:00</td>\n",
       "      <td>2014-07-01 00:24:00</td>\n",
       "      <td>...</td>\n",
       "      <td>134</td>\n",
       "      <td>Peoria St &amp; Jackson Blvd</td>\n",
       "      <td>41.877749</td>\n",
       "      <td>-87.649633</td>\n",
       "      <td>19.0</td>\n",
       "      <td>194</td>\n",
       "      <td>State St &amp; Wacker Dr</td>\n",
       "      <td>41.887155</td>\n",
       "      <td>-87.627750</td>\n",
       "      <td>11.0</td>\n",
       "    </tr>\n",
       "    <tr>\n",
       "      <th>4</th>\n",
       "      <td>2355128</td>\n",
       "      <td>2014</td>\n",
       "      <td>6</td>\n",
       "      <td>27</td>\n",
       "      <td>0</td>\n",
       "      <td>23</td>\n",
       "      <td>Subscriber</td>\n",
       "      <td>Female</td>\n",
       "      <td>2014-06-30 23:16:00</td>\n",
       "      <td>2014-06-30 23:26:00</td>\n",
       "      <td>...</td>\n",
       "      <td>320</td>\n",
       "      <td>Loomis St &amp; Lexington St</td>\n",
       "      <td>41.872187</td>\n",
       "      <td>-87.661501</td>\n",
       "      <td>15.0</td>\n",
       "      <td>134</td>\n",
       "      <td>Peoria St &amp; Jackson Blvd</td>\n",
       "      <td>41.877749</td>\n",
       "      <td>-87.649633</td>\n",
       "      <td>19.0</td>\n",
       "    </tr>\n",
       "    <tr>\n",
       "      <th>11</th>\n",
       "      <td>2355110</td>\n",
       "      <td>2014</td>\n",
       "      <td>6</td>\n",
       "      <td>27</td>\n",
       "      <td>0</td>\n",
       "      <td>22</td>\n",
       "      <td>Subscriber</td>\n",
       "      <td>Female</td>\n",
       "      <td>2014-06-30 22:17:00</td>\n",
       "      <td>2014-06-30 22:22:00</td>\n",
       "      <td>...</td>\n",
       "      <td>267</td>\n",
       "      <td>Lake Park Ave &amp; 47th St</td>\n",
       "      <td>41.809443</td>\n",
       "      <td>-87.591875</td>\n",
       "      <td>15.0</td>\n",
       "      <td>322</td>\n",
       "      <td>Kimbark Ave &amp; 53rd St</td>\n",
       "      <td>41.799568</td>\n",
       "      <td>-87.594747</td>\n",
       "      <td>15.0</td>\n",
       "    </tr>\n",
       "    <tr>\n",
       "      <th>13</th>\n",
       "      <td>2355100</td>\n",
       "      <td>2014</td>\n",
       "      <td>6</td>\n",
       "      <td>27</td>\n",
       "      <td>0</td>\n",
       "      <td>22</td>\n",
       "      <td>Subscriber</td>\n",
       "      <td>Female</td>\n",
       "      <td>2014-06-30 22:04:00</td>\n",
       "      <td>2014-06-30 22:08:00</td>\n",
       "      <td>...</td>\n",
       "      <td>210</td>\n",
       "      <td>Ashland Ave &amp; Division St</td>\n",
       "      <td>41.903448</td>\n",
       "      <td>-87.669313</td>\n",
       "      <td>19.0</td>\n",
       "      <td>350</td>\n",
       "      <td>Ashland Ave &amp; Chicago Ave</td>\n",
       "      <td>41.895966</td>\n",
       "      <td>-87.667747</td>\n",
       "      <td>15.0</td>\n",
       "    </tr>\n",
       "    <tr>\n",
       "      <th>14</th>\n",
       "      <td>2355098</td>\n",
       "      <td>2014</td>\n",
       "      <td>6</td>\n",
       "      <td>27</td>\n",
       "      <td>0</td>\n",
       "      <td>22</td>\n",
       "      <td>Subscriber</td>\n",
       "      <td>Female</td>\n",
       "      <td>2014-06-30 22:04:00</td>\n",
       "      <td>2014-06-30 22:24:00</td>\n",
       "      <td>...</td>\n",
       "      <td>332</td>\n",
       "      <td>Halsted St &amp; Diversey Pkwy</td>\n",
       "      <td>41.933341</td>\n",
       "      <td>-87.648747</td>\n",
       "      <td>15.0</td>\n",
       "      <td>350</td>\n",
       "      <td>Ashland Ave &amp; Chicago Ave</td>\n",
       "      <td>41.895966</td>\n",
       "      <td>-87.667747</td>\n",
       "      <td>15.0</td>\n",
       "    </tr>\n",
       "    <tr>\n",
       "      <th>...</th>\n",
       "      <td>...</td>\n",
       "      <td>...</td>\n",
       "      <td>...</td>\n",
       "      <td>...</td>\n",
       "      <td>...</td>\n",
       "      <td>...</td>\n",
       "      <td>...</td>\n",
       "      <td>...</td>\n",
       "      <td>...</td>\n",
       "      <td>...</td>\n",
       "      <td>...</td>\n",
       "      <td>...</td>\n",
       "      <td>...</td>\n",
       "      <td>...</td>\n",
       "      <td>...</td>\n",
       "      <td>...</td>\n",
       "      <td>...</td>\n",
       "      <td>...</td>\n",
       "      <td>...</td>\n",
       "      <td>...</td>\n",
       "      <td>...</td>\n",
       "    </tr>\n",
       "    <tr>\n",
       "      <th>9495216</th>\n",
       "      <td>16734088</td>\n",
       "      <td>2017</td>\n",
       "      <td>10</td>\n",
       "      <td>39</td>\n",
       "      <td>6</td>\n",
       "      <td>0</td>\n",
       "      <td>Subscriber</td>\n",
       "      <td>Female</td>\n",
       "      <td>2017-10-01 00:07:00</td>\n",
       "      <td>2017-10-01 00:28:00</td>\n",
       "      <td>...</td>\n",
       "      <td>488</td>\n",
       "      <td>Pulaski Rd &amp; Eddy St</td>\n",
       "      <td>41.945636</td>\n",
       "      <td>-87.727737</td>\n",
       "      <td>11.0</td>\n",
       "      <td>488</td>\n",
       "      <td>Pulaski Rd &amp; Eddy St</td>\n",
       "      <td>41.945636</td>\n",
       "      <td>-87.727737</td>\n",
       "      <td>11.0</td>\n",
       "    </tr>\n",
       "    <tr>\n",
       "      <th>9495219</th>\n",
       "      <td>16734084</td>\n",
       "      <td>2017</td>\n",
       "      <td>10</td>\n",
       "      <td>39</td>\n",
       "      <td>6</td>\n",
       "      <td>0</td>\n",
       "      <td>Subscriber</td>\n",
       "      <td>Female</td>\n",
       "      <td>2017-10-01 00:06:00</td>\n",
       "      <td>2017-10-01 00:12:00</td>\n",
       "      <td>...</td>\n",
       "      <td>62</td>\n",
       "      <td>McCormick Place</td>\n",
       "      <td>41.851375</td>\n",
       "      <td>-87.618835</td>\n",
       "      <td>27.0</td>\n",
       "      <td>273</td>\n",
       "      <td>Michigan Ave &amp; 18th St</td>\n",
       "      <td>41.857813</td>\n",
       "      <td>-87.624550</td>\n",
       "      <td>23.0</td>\n",
       "    </tr>\n",
       "    <tr>\n",
       "      <th>9495230</th>\n",
       "      <td>16734072</td>\n",
       "      <td>2017</td>\n",
       "      <td>10</td>\n",
       "      <td>39</td>\n",
       "      <td>6</td>\n",
       "      <td>0</td>\n",
       "      <td>Subscriber</td>\n",
       "      <td>Female</td>\n",
       "      <td>2017-10-01 00:01:00</td>\n",
       "      <td>2017-10-01 00:12:00</td>\n",
       "      <td>...</td>\n",
       "      <td>220</td>\n",
       "      <td>Hampden Ct &amp; Diversey Pkwy</td>\n",
       "      <td>41.932620</td>\n",
       "      <td>-87.642385</td>\n",
       "      <td>23.0</td>\n",
       "      <td>87</td>\n",
       "      <td>Racine Ave &amp; Fullerton Ave</td>\n",
       "      <td>41.925563</td>\n",
       "      <td>-87.658404</td>\n",
       "      <td>19.0</td>\n",
       "    </tr>\n",
       "    <tr>\n",
       "      <th>9495233</th>\n",
       "      <td>16734067</td>\n",
       "      <td>2017</td>\n",
       "      <td>10</td>\n",
       "      <td>39</td>\n",
       "      <td>6</td>\n",
       "      <td>0</td>\n",
       "      <td>Subscriber</td>\n",
       "      <td>Female</td>\n",
       "      <td>2017-10-01 00:00:00</td>\n",
       "      <td>2017-10-01 00:06:00</td>\n",
       "      <td>...</td>\n",
       "      <td>288</td>\n",
       "      <td>Larrabee St &amp; Armitage Ave</td>\n",
       "      <td>41.918084</td>\n",
       "      <td>-87.643749</td>\n",
       "      <td>11.0</td>\n",
       "      <td>289</td>\n",
       "      <td>Wells St &amp; Concord Ln</td>\n",
       "      <td>41.912133</td>\n",
       "      <td>-87.634656</td>\n",
       "      <td>19.0</td>\n",
       "    </tr>\n",
       "    <tr>\n",
       "      <th>9495234</th>\n",
       "      <td>16734066</td>\n",
       "      <td>2017</td>\n",
       "      <td>10</td>\n",
       "      <td>39</td>\n",
       "      <td>6</td>\n",
       "      <td>0</td>\n",
       "      <td>Subscriber</td>\n",
       "      <td>Female</td>\n",
       "      <td>2017-10-01 00:00:00</td>\n",
       "      <td>2017-10-01 00:12:00</td>\n",
       "      <td>...</td>\n",
       "      <td>135</td>\n",
       "      <td>Halsted St &amp; 21st St</td>\n",
       "      <td>41.853780</td>\n",
       "      <td>-87.646650</td>\n",
       "      <td>11.0</td>\n",
       "      <td>129</td>\n",
       "      <td>Blue Island Ave &amp; 18th St</td>\n",
       "      <td>41.857556</td>\n",
       "      <td>-87.661535</td>\n",
       "      <td>15.0</td>\n",
       "    </tr>\n",
       "  </tbody>\n",
       "</table>\n",
       "<p>2378675 rows × 23 columns</p>\n",
       "</div>"
      ],
      "text/plain": [
       "          trip_id  year  month  week  day  hour    usertype  gender  \\\n",
       "3         2355129  2014      6    27    0    23  Subscriber  Female   \n",
       "4         2355128  2014      6    27    0    23  Subscriber  Female   \n",
       "11        2355110  2014      6    27    0    22  Subscriber  Female   \n",
       "13        2355100  2014      6    27    0    22  Subscriber  Female   \n",
       "14        2355098  2014      6    27    0    22  Subscriber  Female   \n",
       "...           ...   ...    ...   ...  ...   ...         ...     ...   \n",
       "9495216  16734088  2017     10    39    6     0  Subscriber  Female   \n",
       "9495219  16734084  2017     10    39    6     0  Subscriber  Female   \n",
       "9495230  16734072  2017     10    39    6     0  Subscriber  Female   \n",
       "9495233  16734067  2017     10    39    6     0  Subscriber  Female   \n",
       "9495234  16734066  2017     10    39    6     0  Subscriber  Female   \n",
       "\n",
       "                   starttime             stoptime  ...  from_station_id  \\\n",
       "3        2014-06-30 23:26:00  2014-07-01 00:24:00  ...              134   \n",
       "4        2014-06-30 23:16:00  2014-06-30 23:26:00  ...              320   \n",
       "11       2014-06-30 22:17:00  2014-06-30 22:22:00  ...              267   \n",
       "13       2014-06-30 22:04:00  2014-06-30 22:08:00  ...              210   \n",
       "14       2014-06-30 22:04:00  2014-06-30 22:24:00  ...              332   \n",
       "...                      ...                  ...  ...              ...   \n",
       "9495216  2017-10-01 00:07:00  2017-10-01 00:28:00  ...              488   \n",
       "9495219  2017-10-01 00:06:00  2017-10-01 00:12:00  ...               62   \n",
       "9495230  2017-10-01 00:01:00  2017-10-01 00:12:00  ...              220   \n",
       "9495233  2017-10-01 00:00:00  2017-10-01 00:06:00  ...              288   \n",
       "9495234  2017-10-01 00:00:00  2017-10-01 00:12:00  ...              135   \n",
       "\n",
       "                  from_station_name latitude_start  longitude_start  \\\n",
       "3          Peoria St & Jackson Blvd      41.877749       -87.649633   \n",
       "4          Loomis St & Lexington St      41.872187       -87.661501   \n",
       "11          Lake Park Ave & 47th St      41.809443       -87.591875   \n",
       "13        Ashland Ave & Division St      41.903448       -87.669313   \n",
       "14       Halsted St & Diversey Pkwy      41.933341       -87.648747   \n",
       "...                             ...            ...              ...   \n",
       "9495216        Pulaski Rd & Eddy St      41.945636       -87.727737   \n",
       "9495219             McCormick Place      41.851375       -87.618835   \n",
       "9495230  Hampden Ct & Diversey Pkwy      41.932620       -87.642385   \n",
       "9495233  Larrabee St & Armitage Ave      41.918084       -87.643749   \n",
       "9495234        Halsted St & 21st St      41.853780       -87.646650   \n",
       "\n",
       "        dpcapacity_start  to_station_id             to_station_name  \\\n",
       "3                   19.0            194        State St & Wacker Dr   \n",
       "4                   15.0            134    Peoria St & Jackson Blvd   \n",
       "11                  15.0            322       Kimbark Ave & 53rd St   \n",
       "13                  19.0            350   Ashland Ave & Chicago Ave   \n",
       "14                  15.0            350   Ashland Ave & Chicago Ave   \n",
       "...                  ...            ...                         ...   \n",
       "9495216             11.0            488        Pulaski Rd & Eddy St   \n",
       "9495219             27.0            273      Michigan Ave & 18th St   \n",
       "9495230             23.0             87  Racine Ave & Fullerton Ave   \n",
       "9495233             11.0            289       Wells St & Concord Ln   \n",
       "9495234             11.0            129   Blue Island Ave & 18th St   \n",
       "\n",
       "         latitude_end  longitude_end dpcapacity_end  \n",
       "3           41.887155     -87.627750           11.0  \n",
       "4           41.877749     -87.649633           19.0  \n",
       "11          41.799568     -87.594747           15.0  \n",
       "13          41.895966     -87.667747           15.0  \n",
       "14          41.895966     -87.667747           15.0  \n",
       "...               ...            ...            ...  \n",
       "9495216     41.945636     -87.727737           11.0  \n",
       "9495219     41.857813     -87.624550           23.0  \n",
       "9495230     41.925563     -87.658404           19.0  \n",
       "9495233     41.912133     -87.634656           19.0  \n",
       "9495234     41.857556     -87.661535           15.0  \n",
       "\n",
       "[2378675 rows x 23 columns]"
      ]
     },
     "execution_count": 19,
     "metadata": {},
     "output_type": "execute_result"
    }
   ],
   "source": [
    "data_frame[data_frame['gender'] == 'Female']"
   ]
  },
  {
   "cell_type": "markdown",
   "id": "c2b337c9",
   "metadata": {},
   "source": [
    "- Above data is only concerning female riders  "
   ]
  },
  {
   "cell_type": "markdown",
   "id": "d5d47f84",
   "metadata": {},
   "source": [
    "<div class = \"alert alert-warning\"> Suppose now you are interested in the attributes: 'year', 'month','starttime', 'stoptime' for female riders only:"
   ]
  },
  {
   "cell_type": "code",
   "execution_count": 20,
   "id": "c7024542",
   "metadata": {},
   "outputs": [
    {
     "data": {
      "text/html": [
       "<div>\n",
       "<style scoped>\n",
       "    .dataframe tbody tr th:only-of-type {\n",
       "        vertical-align: middle;\n",
       "    }\n",
       "\n",
       "    .dataframe tbody tr th {\n",
       "        vertical-align: top;\n",
       "    }\n",
       "\n",
       "    .dataframe thead th {\n",
       "        text-align: right;\n",
       "    }\n",
       "</style>\n",
       "<table border=\"1\" class=\"dataframe\">\n",
       "  <thead>\n",
       "    <tr style=\"text-align: right;\">\n",
       "      <th></th>\n",
       "      <th>year</th>\n",
       "      <th>month</th>\n",
       "      <th>starttime</th>\n",
       "      <th>stoptime</th>\n",
       "    </tr>\n",
       "  </thead>\n",
       "  <tbody>\n",
       "    <tr>\n",
       "      <th>3</th>\n",
       "      <td>2014</td>\n",
       "      <td>6</td>\n",
       "      <td>2014-06-30 23:26:00</td>\n",
       "      <td>2014-07-01 00:24:00</td>\n",
       "    </tr>\n",
       "    <tr>\n",
       "      <th>4</th>\n",
       "      <td>2014</td>\n",
       "      <td>6</td>\n",
       "      <td>2014-06-30 23:16:00</td>\n",
       "      <td>2014-06-30 23:26:00</td>\n",
       "    </tr>\n",
       "    <tr>\n",
       "      <th>11</th>\n",
       "      <td>2014</td>\n",
       "      <td>6</td>\n",
       "      <td>2014-06-30 22:17:00</td>\n",
       "      <td>2014-06-30 22:22:00</td>\n",
       "    </tr>\n",
       "    <tr>\n",
       "      <th>13</th>\n",
       "      <td>2014</td>\n",
       "      <td>6</td>\n",
       "      <td>2014-06-30 22:04:00</td>\n",
       "      <td>2014-06-30 22:08:00</td>\n",
       "    </tr>\n",
       "    <tr>\n",
       "      <th>14</th>\n",
       "      <td>2014</td>\n",
       "      <td>6</td>\n",
       "      <td>2014-06-30 22:04:00</td>\n",
       "      <td>2014-06-30 22:24:00</td>\n",
       "    </tr>\n",
       "    <tr>\n",
       "      <th>...</th>\n",
       "      <td>...</td>\n",
       "      <td>...</td>\n",
       "      <td>...</td>\n",
       "      <td>...</td>\n",
       "    </tr>\n",
       "    <tr>\n",
       "      <th>9495216</th>\n",
       "      <td>2017</td>\n",
       "      <td>10</td>\n",
       "      <td>2017-10-01 00:07:00</td>\n",
       "      <td>2017-10-01 00:28:00</td>\n",
       "    </tr>\n",
       "    <tr>\n",
       "      <th>9495219</th>\n",
       "      <td>2017</td>\n",
       "      <td>10</td>\n",
       "      <td>2017-10-01 00:06:00</td>\n",
       "      <td>2017-10-01 00:12:00</td>\n",
       "    </tr>\n",
       "    <tr>\n",
       "      <th>9495230</th>\n",
       "      <td>2017</td>\n",
       "      <td>10</td>\n",
       "      <td>2017-10-01 00:01:00</td>\n",
       "      <td>2017-10-01 00:12:00</td>\n",
       "    </tr>\n",
       "    <tr>\n",
       "      <th>9495233</th>\n",
       "      <td>2017</td>\n",
       "      <td>10</td>\n",
       "      <td>2017-10-01 00:00:00</td>\n",
       "      <td>2017-10-01 00:06:00</td>\n",
       "    </tr>\n",
       "    <tr>\n",
       "      <th>9495234</th>\n",
       "      <td>2017</td>\n",
       "      <td>10</td>\n",
       "      <td>2017-10-01 00:00:00</td>\n",
       "      <td>2017-10-01 00:12:00</td>\n",
       "    </tr>\n",
       "  </tbody>\n",
       "</table>\n",
       "<p>2378675 rows × 4 columns</p>\n",
       "</div>"
      ],
      "text/plain": [
       "         year  month            starttime             stoptime\n",
       "3        2014      6  2014-06-30 23:26:00  2014-07-01 00:24:00\n",
       "4        2014      6  2014-06-30 23:16:00  2014-06-30 23:26:00\n",
       "11       2014      6  2014-06-30 22:17:00  2014-06-30 22:22:00\n",
       "13       2014      6  2014-06-30 22:04:00  2014-06-30 22:08:00\n",
       "14       2014      6  2014-06-30 22:04:00  2014-06-30 22:24:00\n",
       "...       ...    ...                  ...                  ...\n",
       "9495216  2017     10  2017-10-01 00:07:00  2017-10-01 00:28:00\n",
       "9495219  2017     10  2017-10-01 00:06:00  2017-10-01 00:12:00\n",
       "9495230  2017     10  2017-10-01 00:01:00  2017-10-01 00:12:00\n",
       "9495233  2017     10  2017-10-01 00:00:00  2017-10-01 00:06:00\n",
       "9495234  2017     10  2017-10-01 00:00:00  2017-10-01 00:12:00\n",
       "\n",
       "[2378675 rows x 4 columns]"
      ]
     },
     "execution_count": 20,
     "metadata": {},
     "output_type": "execute_result"
    }
   ],
   "source": [
    "data_frame[data_frame['gender'] == 'Female'][['year', 'month','starttime', 'stoptime']]"
   ]
  },
  {
   "cell_type": "markdown",
   "id": "8afef87a",
   "metadata": {},
   "source": [
    "###  <div class = \"alert alert-info\"> Adding column in a data frame"
   ]
  },
  {
   "cell_type": "code",
   "execution_count": 21,
   "id": "71079002",
   "metadata": {},
   "outputs": [
    {
     "data": {
      "text/plain": [
       "Index(['trip_id', 'year', 'month', 'week', 'day', 'hour', 'usertype', 'gender',\n",
       "       'starttime', 'stoptime', 'tripduration', 'temperature', 'events',\n",
       "       'from_station_id', 'from_station_name', 'latitude_start',\n",
       "       'longitude_start', 'dpcapacity_start', 'to_station_id',\n",
       "       'to_station_name', 'latitude_end', 'longitude_end', 'dpcapacity_end',\n",
       "       'date'],\n",
       "      dtype='object')"
      ]
     },
     "execution_count": 21,
     "metadata": {},
     "output_type": "execute_result"
    }
   ],
   "source": [
    "data_frame[\"date\"] = data_frame[\"year\"]  #adding a date colum to dataframe thats equal to year (just like in dictionaries)\n",
    "\n",
    "data_frame.columns   #  date column at the end"
   ]
  },
  {
   "cell_type": "code",
   "execution_count": 22,
   "id": "48200ebf",
   "metadata": {},
   "outputs": [
    {
     "data": {
      "text/plain": [
       "(24,)"
      ]
     },
     "execution_count": 22,
     "metadata": {},
     "output_type": "execute_result"
    }
   ],
   "source": [
    "data_frame.columns.shape  # now we have 24 columns"
   ]
  },
  {
   "cell_type": "code",
   "execution_count": 23,
   "id": "3e3993ff",
   "metadata": {},
   "outputs": [
    {
     "data": {
      "text/plain": [
       "0          Dates\n",
       "1          Dates\n",
       "2          Dates\n",
       "3          Dates\n",
       "4          Dates\n",
       "           ...  \n",
       "9495230    Dates\n",
       "9495231    Dates\n",
       "9495232    Dates\n",
       "9495233    Dates\n",
       "9495234    Dates\n",
       "Name: date, Length: 9495235, dtype: object"
      ]
     },
     "execution_count": 23,
     "metadata": {},
     "output_type": "execute_result"
    }
   ],
   "source": [
    "#Simple example\n",
    "data_frame[\"date\"] = \"Dates\"\n",
    "data_frame.columns \n",
    "data_frame[\"date\"]"
   ]
  },
  {
   "cell_type": "markdown",
   "id": "a14d9996",
   "metadata": {},
   "source": [
    "###  <div class = \"alert alert-info\"> Info about dataset example"
   ]
  },
  {
   "cell_type": "code",
   "execution_count": 24,
   "id": "7ae95d9a",
   "metadata": {},
   "outputs": [
    {
     "name": "stdout",
     "output_type": "stream",
     "text": [
      "<class 'pandas.core.frame.DataFrame'>\n",
      "RangeIndex: 169 entries, 0 to 168\n",
      "Data columns (total 4 columns):\n",
      " #   Column    Non-Null Count  Dtype  \n",
      "---  ------    --------------  -----  \n",
      " 0   Duration  169 non-null    int64  \n",
      " 1   Pulse     169 non-null    int64  \n",
      " 2   Maxpulse  169 non-null    int64  \n",
      " 3   Calories  164 non-null    float64\n",
      "dtypes: float64(1), int64(3)\n",
      "memory usage: 5.4 KB\n"
     ]
    }
   ],
   "source": [
    "path = \"./data1.csv\"\n",
    "df = pd.read_csv(path) \n",
    "df.info()"
   ]
  },
  {
   "cell_type": "markdown",
   "id": "3e6942cb",
   "metadata": {},
   "source": [
    "### Explaning the result of print(df.info()):\n",
    "\n",
    "###### - RangeIndex: 169 entries, 0 to 168 --------------------------> Total number of rows = 169 (0 - 168)\n",
    "###### - Data columns (total 4 columns):---------------------------->  Total vumber of columns/ attributes = 4\n",
    "##### - The table:\n",
    "| |Column|    Non-Null Count|  Dtype|  \n",
    "|--|------|    --------------|  -----|  \n",
    "| 0|Duration|  169 non-null|    int64|  \n",
    "| 1|Pulse   |169 non-null|    int64|  \n",
    "| 2|Maxpulse|169 non-null|    int64|  \n",
    "| 3|Calories|164 non-null|    float64|\n",
    "\n",
    "##### and dtypes: float64(1), int64(3) -------------> Show us the name of each column, with the data type\n",
    "\n",
    "#### - Null Values:\n",
    "        The info() method also tells us how many Non-Null values there are present in each column, and in our data set it \n",
    "        seems like there are 164 of 169 Non-Null values in the \"Calories\" column.\n",
    "\n",
    "        Which means that there are 5 rows with no value at all, in the \"Calories\" column, for whatever reason.\n",
    "\n",
    "        Empty values, or Null values, can be bad when analyzing data, and you should consider removing rows with empty \n",
    "        values. This is a step towards what is called cleaning data."
   ]
  }
 ],
 "metadata": {
  "kernelspec": {
   "display_name": "Python 3 (ipykernel)",
   "language": "python",
   "name": "python3"
  },
  "language_info": {
   "codemirror_mode": {
    "name": "ipython",
    "version": 3
   },
   "file_extension": ".py",
   "mimetype": "text/x-python",
   "name": "python",
   "nbconvert_exporter": "python",
   "pygments_lexer": "ipython3",
   "version": "3.9.12"
  }
 },
 "nbformat": 4,
 "nbformat_minor": 5
}
